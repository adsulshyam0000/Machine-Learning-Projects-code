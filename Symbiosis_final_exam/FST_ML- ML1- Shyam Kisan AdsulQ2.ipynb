{
 "cells": [
  {
   "cell_type": "code",
   "execution_count": 15,
   "metadata": {
    "ExecuteTime": {
     "end_time": "2021-04-10T08:22:30.807660Z",
     "start_time": "2021-04-10T08:22:30.778774Z"
    }
   },
   "outputs": [],
   "source": [
    "import pandas as pd\n",
    "import numpy as np \n",
    "import seaborn as sns\n",
    "import matplotlib.pyplot as plt\n",
    "df  = pd.read_csv(r'C:\\Users\\Shyam Adsul\\Desktop\\User_device.csv')\n",
    "df1  = pd.read_csv(r'C:\\Users\\Shyam Adsul\\Desktop\\user_usage.csv')\n",
    "df2 = pd.concat([df, df1])\n"
   ]
  },
  {
   "cell_type": "code",
   "execution_count": 18,
   "metadata": {
    "ExecuteTime": {
     "end_time": "2021-04-10T08:23:33.177577Z",
     "start_time": "2021-04-10T08:23:33.147656Z"
    }
   },
   "outputs": [],
   "source": [
    "df2['monthly_mb'] = df2['monthly_mb'].fillna(df2['monthly_mb'].mean())\n",
    "\n",
    "df2['outgoing_sms_per_month'] = df2['outgoing_sms_per_month'].fillna(df2['outgoing_sms_per_month'].mean())\n",
    "\n",
    "\n",
    "df2['outgoing_mins_per_month'] = df2['outgoing_mins_per_month'].fillna(df2['outgoing_mins_per_month'].mean())\n",
    "\n",
    "\n",
    "\n",
    "df2['platform'] = df2['platform'].fillna(df2['platform'].mode()[0])\n",
    "df2['use_type_id'] = df2['use_type_id'].fillna(df2['use_type_id'].mode()[0])\n",
    "df2['platform_version'] = df2['platform_version'].fillna(df2['platform_version'].mode()[0])\n",
    "df2['device'] = df2['device'].fillna(df2['device'].mode()[0])\n"
   ]
  },
  {
   "cell_type": "code",
   "execution_count": 19,
   "metadata": {
    "ExecuteTime": {
     "end_time": "2021-04-10T08:23:34.977101Z",
     "start_time": "2021-04-10T08:23:34.961143Z"
    }
   },
   "outputs": [
    {
     "data": {
      "text/plain": [
       "use_id                       0\n",
       "user_id                    240\n",
       "platform                     0\n",
       "platform_version             0\n",
       "device                       0\n",
       "use_type_id                  0\n",
       "outgoing_mins_per_month      0\n",
       "outgoing_sms_per_month       0\n",
       "monthly_mb                   0\n",
       "dtype: int64"
      ]
     },
     "execution_count": 19,
     "metadata": {},
     "output_type": "execute_result"
    }
   ],
   "source": [
    "df2.isna().sum()"
   ]
  },
  {
   "cell_type": "markdown",
   "metadata": {
    "ExecuteTime": {
     "end_time": "2021-04-10T08:19:06.748908Z",
     "start_time": "2021-04-10T08:19:06.735951Z"
    }
   },
   "source": [
    "# Q2 A)"
   ]
  },
  {
   "cell_type": "code",
   "execution_count": 20,
   "metadata": {
    "ExecuteTime": {
     "end_time": "2021-04-10T08:24:24.989184Z",
     "start_time": "2021-04-10T08:24:24.951284Z"
    }
   },
   "outputs": [
    {
     "data": {
      "text/html": [
       "<div>\n",
       "<style scoped>\n",
       "    .dataframe tbody tr th:only-of-type {\n",
       "        vertical-align: middle;\n",
       "    }\n",
       "\n",
       "    .dataframe tbody tr th {\n",
       "        vertical-align: top;\n",
       "    }\n",
       "\n",
       "    .dataframe thead th {\n",
       "        text-align: right;\n",
       "    }\n",
       "</style>\n",
       "<table border=\"1\" class=\"dataframe\">\n",
       "  <thead>\n",
       "    <tr style=\"text-align: right;\">\n",
       "      <th></th>\n",
       "      <th>use_id</th>\n",
       "      <th>user_id</th>\n",
       "      <th>platform</th>\n",
       "      <th>platform_version</th>\n",
       "      <th>device</th>\n",
       "      <th>use_type_id</th>\n",
       "      <th>outgoing_mins_per_month</th>\n",
       "      <th>outgoing_sms_per_month</th>\n",
       "      <th>monthly_mb</th>\n",
       "      <th>Basket</th>\n",
       "    </tr>\n",
       "  </thead>\n",
       "  <tbody>\n",
       "    <tr>\n",
       "      <th>0</th>\n",
       "      <td>22782</td>\n",
       "      <td>26980.0</td>\n",
       "      <td>ios</td>\n",
       "      <td>10.2</td>\n",
       "      <td>iPhone7,2</td>\n",
       "      <td>2.0</td>\n",
       "      <td>274.559167</td>\n",
       "      <td>98.968292</td>\n",
       "      <td>3628.602042</td>\n",
       "      <td>3% extra on monthly MB usage</td>\n",
       "    </tr>\n",
       "    <tr>\n",
       "      <th>1</th>\n",
       "      <td>22783</td>\n",
       "      <td>29628.0</td>\n",
       "      <td>android</td>\n",
       "      <td>6.0</td>\n",
       "      <td>Nexus 5</td>\n",
       "      <td>3.0</td>\n",
       "      <td>274.559167</td>\n",
       "      <td>98.968292</td>\n",
       "      <td>3628.602042</td>\n",
       "      <td>3% extra on monthly MB usage</td>\n",
       "    </tr>\n",
       "    <tr>\n",
       "      <th>2</th>\n",
       "      <td>22784</td>\n",
       "      <td>28473.0</td>\n",
       "      <td>android</td>\n",
       "      <td>5.1</td>\n",
       "      <td>SM-G903F</td>\n",
       "      <td>1.0</td>\n",
       "      <td>274.559167</td>\n",
       "      <td>98.968292</td>\n",
       "      <td>3628.602042</td>\n",
       "      <td>3% extra on monthly MB usage</td>\n",
       "    </tr>\n",
       "    <tr>\n",
       "      <th>3</th>\n",
       "      <td>22785</td>\n",
       "      <td>15200.0</td>\n",
       "      <td>ios</td>\n",
       "      <td>10.2</td>\n",
       "      <td>iPhone7,2</td>\n",
       "      <td>3.0</td>\n",
       "      <td>274.559167</td>\n",
       "      <td>98.968292</td>\n",
       "      <td>3628.602042</td>\n",
       "      <td>3% extra on monthly MB usage</td>\n",
       "    </tr>\n",
       "    <tr>\n",
       "      <th>4</th>\n",
       "      <td>22786</td>\n",
       "      <td>28239.0</td>\n",
       "      <td>android</td>\n",
       "      <td>6.0</td>\n",
       "      <td>ONE E1003</td>\n",
       "      <td>1.0</td>\n",
       "      <td>274.559167</td>\n",
       "      <td>98.968292</td>\n",
       "      <td>3628.602042</td>\n",
       "      <td>3% extra on monthly MB usage</td>\n",
       "    </tr>\n",
       "  </tbody>\n",
       "</table>\n",
       "</div>"
      ],
      "text/plain": [
       "   use_id  user_id platform  platform_version     device  use_type_id  \\\n",
       "0   22782  26980.0      ios              10.2  iPhone7,2          2.0   \n",
       "1   22783  29628.0  android               6.0    Nexus 5          3.0   \n",
       "2   22784  28473.0  android               5.1   SM-G903F          1.0   \n",
       "3   22785  15200.0      ios              10.2  iPhone7,2          3.0   \n",
       "4   22786  28239.0  android               6.0  ONE E1003          1.0   \n",
       "\n",
       "   outgoing_mins_per_month  outgoing_sms_per_month   monthly_mb  \\\n",
       "0               274.559167               98.968292  3628.602042   \n",
       "1               274.559167               98.968292  3628.602042   \n",
       "2               274.559167               98.968292  3628.602042   \n",
       "3               274.559167               98.968292  3628.602042   \n",
       "4               274.559167               98.968292  3628.602042   \n",
       "\n",
       "                         Basket  \n",
       "0  3% extra on monthly MB usage  \n",
       "1  3% extra on monthly MB usage  \n",
       "2  3% extra on monthly MB usage  \n",
       "3  3% extra on monthly MB usage  \n",
       "4  3% extra on monthly MB usage  "
      ]
     },
     "execution_count": 20,
     "metadata": {},
     "output_type": "execute_result"
    }
   ],
   "source": [
    "conditions = [\n",
    "    (df2['monthly_mb'] <= 50),\n",
    "    (df2['monthly_mb'] > 51) & (df2['monthly_mb'] <= 1000),\n",
    "    (df2['monthly_mb'] > 1001) & (df2['monthly_mb'] <= 15000),\n",
    "    (df2['monthly_mb'] > 15001) & (df2['monthly_mb'] <= 30000),\n",
    "    ]\n",
    "\n",
    "values = ['10% extra on monthly MB usage', '4% extra on monthly MB usage', '3% extra on monthly MB usage', '2% extra on monthly MB usage']\n",
    "\n",
    "df2['Basket'] = np.select(conditions, values)\n",
    "\n",
    "df2.head()"
   ]
  },
  {
   "cell_type": "code",
   "execution_count": null,
   "metadata": {},
   "outputs": [],
   "source": [
    "Q 2 B)"
   ]
  },
  {
   "cell_type": "code",
   "execution_count": 30,
   "metadata": {
    "ExecuteTime": {
     "end_time": "2021-04-10T08:46:54.395734Z",
     "start_time": "2021-04-10T08:46:54.373793Z"
    }
   },
   "outputs": [
    {
     "data": {
      "text/html": [
       "<div>\n",
       "<style scoped>\n",
       "    .dataframe tbody tr th:only-of-type {\n",
       "        vertical-align: middle;\n",
       "    }\n",
       "\n",
       "    .dataframe tbody tr th {\n",
       "        vertical-align: top;\n",
       "    }\n",
       "\n",
       "    .dataframe thead th {\n",
       "        text-align: right;\n",
       "    }\n",
       "</style>\n",
       "<table border=\"1\" class=\"dataframe\">\n",
       "  <thead>\n",
       "    <tr style=\"text-align: right;\">\n",
       "      <th></th>\n",
       "      <th>use_id</th>\n",
       "      <th>user_id</th>\n",
       "      <th>platform</th>\n",
       "      <th>platform_version</th>\n",
       "      <th>device</th>\n",
       "      <th>use_type_id</th>\n",
       "      <th>outgoing_mins_per_month</th>\n",
       "      <th>outgoing_sms_per_month</th>\n",
       "      <th>monthly_mb</th>\n",
       "      <th>Basket</th>\n",
       "      <th>Message</th>\n",
       "    </tr>\n",
       "  </thead>\n",
       "  <tbody>\n",
       "    <tr>\n",
       "      <th>0</th>\n",
       "      <td>22782</td>\n",
       "      <td>26980.0</td>\n",
       "      <td>ios</td>\n",
       "      <td>10.2</td>\n",
       "      <td>iPhone7,2</td>\n",
       "      <td>2.0</td>\n",
       "      <td>274.559167</td>\n",
       "      <td>98.968292</td>\n",
       "      <td>3628.602042</td>\n",
       "      <td>3% extra on monthly MB usage</td>\n",
       "      <td>You will get 55 MB data to use for the next month</td>\n",
       "    </tr>\n",
       "    <tr>\n",
       "      <th>1</th>\n",
       "      <td>22783</td>\n",
       "      <td>29628.0</td>\n",
       "      <td>android</td>\n",
       "      <td>6.0</td>\n",
       "      <td>Nexus 5</td>\n",
       "      <td>3.0</td>\n",
       "      <td>274.559167</td>\n",
       "      <td>98.968292</td>\n",
       "      <td>3628.602042</td>\n",
       "      <td>3% extra on monthly MB usage</td>\n",
       "      <td>You will get 55 MB data to use for the next month</td>\n",
       "    </tr>\n",
       "    <tr>\n",
       "      <th>2</th>\n",
       "      <td>22784</td>\n",
       "      <td>28473.0</td>\n",
       "      <td>android</td>\n",
       "      <td>5.1</td>\n",
       "      <td>SM-G903F</td>\n",
       "      <td>1.0</td>\n",
       "      <td>274.559167</td>\n",
       "      <td>98.968292</td>\n",
       "      <td>3628.602042</td>\n",
       "      <td>3% extra on monthly MB usage</td>\n",
       "      <td>You will get 55 MB data to use for the next month</td>\n",
       "    </tr>\n",
       "    <tr>\n",
       "      <th>3</th>\n",
       "      <td>22785</td>\n",
       "      <td>15200.0</td>\n",
       "      <td>ios</td>\n",
       "      <td>10.2</td>\n",
       "      <td>iPhone7,2</td>\n",
       "      <td>3.0</td>\n",
       "      <td>274.559167</td>\n",
       "      <td>98.968292</td>\n",
       "      <td>3628.602042</td>\n",
       "      <td>3% extra on monthly MB usage</td>\n",
       "      <td>You will get 55 MB data to use for the next month</td>\n",
       "    </tr>\n",
       "    <tr>\n",
       "      <th>4</th>\n",
       "      <td>22786</td>\n",
       "      <td>28239.0</td>\n",
       "      <td>android</td>\n",
       "      <td>6.0</td>\n",
       "      <td>ONE E1003</td>\n",
       "      <td>1.0</td>\n",
       "      <td>274.559167</td>\n",
       "      <td>98.968292</td>\n",
       "      <td>3628.602042</td>\n",
       "      <td>3% extra on monthly MB usage</td>\n",
       "      <td>You will get 55 MB data to use for the next month</td>\n",
       "    </tr>\n",
       "  </tbody>\n",
       "</table>\n",
       "</div>"
      ],
      "text/plain": [
       "   use_id  user_id platform  platform_version     device  use_type_id  \\\n",
       "0   22782  26980.0      ios              10.2  iPhone7,2          2.0   \n",
       "1   22783  29628.0  android               6.0    Nexus 5          3.0   \n",
       "2   22784  28473.0  android               5.1   SM-G903F          1.0   \n",
       "3   22785  15200.0      ios              10.2  iPhone7,2          3.0   \n",
       "4   22786  28239.0  android               6.0  ONE E1003          1.0   \n",
       "\n",
       "   outgoing_mins_per_month  outgoing_sms_per_month   monthly_mb  \\\n",
       "0               274.559167               98.968292  3628.602042   \n",
       "1               274.559167               98.968292  3628.602042   \n",
       "2               274.559167               98.968292  3628.602042   \n",
       "3               274.559167               98.968292  3628.602042   \n",
       "4               274.559167               98.968292  3628.602042   \n",
       "\n",
       "                         Basket  \\\n",
       "0  3% extra on monthly MB usage   \n",
       "1  3% extra on monthly MB usage   \n",
       "2  3% extra on monthly MB usage   \n",
       "3  3% extra on monthly MB usage   \n",
       "4  3% extra on monthly MB usage   \n",
       "\n",
       "                                             Message  \n",
       "0  You will get 55 MB data to use for the next month  \n",
       "1  You will get 55 MB data to use for the next month  \n",
       "2  You will get 55 MB data to use for the next month  \n",
       "3  You will get 55 MB data to use for the next month  \n",
       "4  You will get 55 MB data to use for the next month  "
      ]
     },
     "execution_count": 30,
     "metadata": {},
     "output_type": "execute_result"
    }
   ],
   "source": [
    "conditions = [\n",
    "    (df2['monthly_mb'] > 0 ),\n",
    "    ]\n",
    "\n",
    "values = ['You will get 55 MB data to use for the next month']\n",
    "\n",
    "df2['Message'] = np.select(conditions, values)\n",
    "\n",
    "df2.head()"
   ]
  },
  {
   "cell_type": "markdown",
   "metadata": {},
   "source": [
    "# Q2  C)"
   ]
  },
  {
   "cell_type": "code",
   "execution_count": 22,
   "metadata": {
    "ExecuteTime": {
     "end_time": "2021-04-10T08:24:41.147622Z",
     "start_time": "2021-04-10T08:24:41.112762Z"
    }
   },
   "outputs": [
    {
     "data": {
      "text/html": [
       "<div>\n",
       "<style scoped>\n",
       "    .dataframe tbody tr th:only-of-type {\n",
       "        vertical-align: middle;\n",
       "    }\n",
       "\n",
       "    .dataframe tbody tr th {\n",
       "        vertical-align: top;\n",
       "    }\n",
       "\n",
       "    .dataframe thead th {\n",
       "        text-align: right;\n",
       "    }\n",
       "</style>\n",
       "<table border=\"1\" class=\"dataframe\">\n",
       "  <thead>\n",
       "    <tr style=\"text-align: right;\">\n",
       "      <th></th>\n",
       "      <th>use_id</th>\n",
       "      <th>user_id</th>\n",
       "      <th>platform</th>\n",
       "      <th>platform_version</th>\n",
       "      <th>device</th>\n",
       "      <th>use_type_id</th>\n",
       "      <th>outgoing_mins_per_month</th>\n",
       "      <th>outgoing_sms_per_month</th>\n",
       "      <th>monthly_mb</th>\n",
       "      <th>Basket</th>\n",
       "    </tr>\n",
       "  </thead>\n",
       "  <tbody>\n",
       "    <tr>\n",
       "      <th>0</th>\n",
       "      <td>22782</td>\n",
       "      <td>26980.0</td>\n",
       "      <td>ios</td>\n",
       "      <td>10.2</td>\n",
       "      <td>iPhone7,2</td>\n",
       "      <td>2.0</td>\n",
       "      <td>274.559167</td>\n",
       "      <td>98.968292</td>\n",
       "      <td>3628.602042</td>\n",
       "      <td>3% extra on monthly MB usage</td>\n",
       "    </tr>\n",
       "    <tr>\n",
       "      <th>1</th>\n",
       "      <td>22783</td>\n",
       "      <td>29628.0</td>\n",
       "      <td>android</td>\n",
       "      <td>6.0</td>\n",
       "      <td>Nexus 5</td>\n",
       "      <td>3.0</td>\n",
       "      <td>274.559167</td>\n",
       "      <td>98.968292</td>\n",
       "      <td>3628.602042</td>\n",
       "      <td>3% extra on monthly MB usage</td>\n",
       "    </tr>\n",
       "    <tr>\n",
       "      <th>2</th>\n",
       "      <td>22784</td>\n",
       "      <td>28473.0</td>\n",
       "      <td>android</td>\n",
       "      <td>5.1</td>\n",
       "      <td>SM-G903F</td>\n",
       "      <td>1.0</td>\n",
       "      <td>274.559167</td>\n",
       "      <td>98.968292</td>\n",
       "      <td>3628.602042</td>\n",
       "      <td>3% extra on monthly MB usage</td>\n",
       "    </tr>\n",
       "    <tr>\n",
       "      <th>3</th>\n",
       "      <td>22785</td>\n",
       "      <td>15200.0</td>\n",
       "      <td>ios</td>\n",
       "      <td>10.2</td>\n",
       "      <td>iPhone7,2</td>\n",
       "      <td>3.0</td>\n",
       "      <td>274.559167</td>\n",
       "      <td>98.968292</td>\n",
       "      <td>3628.602042</td>\n",
       "      <td>3% extra on monthly MB usage</td>\n",
       "    </tr>\n",
       "    <tr>\n",
       "      <th>4</th>\n",
       "      <td>22786</td>\n",
       "      <td>28239.0</td>\n",
       "      <td>android</td>\n",
       "      <td>6.0</td>\n",
       "      <td>ONE E1003</td>\n",
       "      <td>1.0</td>\n",
       "      <td>274.559167</td>\n",
       "      <td>98.968292</td>\n",
       "      <td>3628.602042</td>\n",
       "      <td>3% extra on monthly MB usage</td>\n",
       "    </tr>\n",
       "  </tbody>\n",
       "</table>\n",
       "</div>"
      ],
      "text/plain": [
       "   use_id  user_id platform  platform_version     device  use_type_id  \\\n",
       "0   22782  26980.0      ios              10.2  iPhone7,2          2.0   \n",
       "1   22783  29628.0  android               6.0    Nexus 5          3.0   \n",
       "2   22784  28473.0  android               5.1   SM-G903F          1.0   \n",
       "3   22785  15200.0      ios              10.2  iPhone7,2          3.0   \n",
       "4   22786  28239.0  android               6.0  ONE E1003          1.0   \n",
       "\n",
       "   outgoing_mins_per_month  outgoing_sms_per_month   monthly_mb  \\\n",
       "0               274.559167               98.968292  3628.602042   \n",
       "1               274.559167               98.968292  3628.602042   \n",
       "2               274.559167               98.968292  3628.602042   \n",
       "3               274.559167               98.968292  3628.602042   \n",
       "4               274.559167               98.968292  3628.602042   \n",
       "\n",
       "                         Basket  \n",
       "0  3% extra on monthly MB usage  \n",
       "1  3% extra on monthly MB usage  \n",
       "2  3% extra on monthly MB usage  \n",
       "3  3% extra on monthly MB usage  \n",
       "4  3% extra on monthly MB usage  "
      ]
     },
     "execution_count": 22,
     "metadata": {},
     "output_type": "execute_result"
    }
   ],
   "source": [
    "df2.head()"
   ]
  },
  {
   "cell_type": "markdown",
   "metadata": {
    "ExecuteTime": {
     "end_time": "2021-04-10T08:24:44.468052Z",
     "start_time": "2021-04-10T08:24:44.441127Z"
    }
   },
   "source": []
  },
  {
   "cell_type": "code",
   "execution_count": 25,
   "metadata": {
    "ExecuteTime": {
     "end_time": "2021-04-10T08:25:05.593489Z",
     "start_time": "2021-04-10T08:25:00.897860Z"
    }
   },
   "outputs": [
    {
     "data": {
      "text/plain": [
       "<AxesSubplot:xlabel='monthly_mb', ylabel='count'>"
      ]
     },
     "execution_count": 25,
     "metadata": {},
     "output_type": "execute_result"
    },
    {
     "data": {
      "image/png": "[encoded data removed]",
      "text/plain": [
       "<Figure size 432x288 with 1 Axes>"
      ]
     },
     "metadata": {
      "needs_background": "light"
     },
     "output_type": "display_data"
    }
   ],
   "source": [
    "sns.countplot(x='monthly_mb',hue='platform',data=df2)"
   ]
  },
  {
   "cell_type": "raw",
   "metadata": {},
   "source": [
    "1)Finding \n",
    "\n",
    "Android User are using highest monthly_mb used"
   ]
  },
  {
   "cell_type": "code",
   "execution_count": 29,
   "metadata": {
    "ExecuteTime": {
     "end_time": "2021-04-10T08:32:41.555293Z",
     "start_time": "2021-04-10T08:32:41.223218Z"
    }
   },
   "outputs": [
    {
     "data": {
      "text/plain": [
       "android    424\n",
       "ios         88\n",
       "Name: platform, dtype: int64"
      ]
     },
     "execution_count": 29,
     "metadata": {},
     "output_type": "execute_result"
    },
    {
     "data": {
      "image/png": "[encoded data removed]",
      "text/plain": [
       "<Figure size 432x288 with 1 Axes>"
      ]
     },
     "metadata": {
      "needs_background": "light"
     },
     "output_type": "display_data"
    }
   ],
   "source": [
    "sns.countplot(x='platform',data=df2)\n",
    "df2['platform'].value_counts()"
   ]
  },
  {
   "cell_type": "code",
   "execution_count": null,
   "metadata": {},
   "outputs": [],
   "source": [
    "Findings\n",
    "2)Least Used Device Is ISO\n",
    "3)count of IOS user is 88\n"
   ]
  },
  {
   "cell_type": "code",
   "execution_count": null,
   "metadata": {},
   "outputs": [],
   "source": []
  }
 ],
 "metadata": {
  "kernelspec": {
   "display_name": "Python 3",
   "language": "python",
   "name": "python3"
  },
  "language_info": {
   "codemirror_mode": {
    "name": "ipython",
    "version": 3
   },
   "file_extension": ".py",
   "mimetype": "text/x-python",
   "name": "python",
   "nbconvert_exporter": "python",
   "pygments_lexer": "ipython3",
   "version": "3.8.5"
  },
  "latex_envs": {
   "LaTeX_envs_menu_present": true,
   "autoclose": false,
   "autocomplete": true,
   "bibliofile": "biblio.bib",
   "cite_by": "apalike",
   "current_citInitial": 1,
   "eqLabelWithNumbers": true,
   "eqNumInitial": 1,
   "hotkeys": {
    "equation": "Ctrl-E",
    "itemize": "Ctrl-I"
   },
   "labels_anchors": false,
   "latex_user_defs": false,
   "report_style_numbering": false,
   "user_envs_cfg": false
  },
  "toc": {
   "base_numbering": 1,
   "nav_menu": {},
   "number_sections": true,
   "sideBar": true,
   "skip_h1_title": false,
   "title_cell": "Table of Contents",
   "title_sidebar": "Contents",
   "toc_cell": false,
   "toc_position": {},
   "toc_section_display": true,
   "toc_window_display": false
  },
  "varInspector": {
   "cols": {
    "lenName": 16,
    "lenType": 16,
    "lenVar": 40
   },
   "kernels_config": {
    "python": {
     "delete_cmd_postfix": "",
     "delete_cmd_prefix": "del ",
     "library": "var_list.py",
     "varRefreshCmd": "print(var_dic_list())"
    },
    "r": {
     "delete_cmd_postfix": ") ",
     "delete_cmd_prefix": "rm(",
     "library": "var_list.r",
     "varRefreshCmd": "cat(var_dic_list()) "
    }
   },
   "types_to_exclude": [
    "module",
    "function",
    "builtin_function_or_method",
    "instance",
    "_Feature"
   ],
   "window_display": false
  }
 },
 "nbformat": 4,
 "nbformat_minor": 4
}
