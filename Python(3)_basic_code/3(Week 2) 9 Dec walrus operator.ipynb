{
 "cells": [
  {
   "cell_type": "markdown",
   "metadata": {},
   "source": [
    "This symbol := is an assignment operator in Python (mostly called as the Walrus Operator). In a nutshell, the walrus operator compresses our code to make it a little shorter."
   ]
  },
  {
   "cell_type": "code",
   "execution_count": 4,
   "metadata": {},
   "outputs": [
    {
     "name": "stdout",
     "output_type": "stream",
     "text": [
      "30 is greater than 10\n"
     ]
    }
   ],
   "source": [
    "# without walrus\n",
    "n = 30\n",
    "if n > 10:\n",
    "    print(f\"{n} is greater than 10\")"
   ]
  },
  {
   "cell_type": "code",
   "execution_count": 5,
   "metadata": {},
   "outputs": [
    {
     "ename": "SyntaxError",
     "evalue": "invalid syntax (<ipython-input-5-fbc26c6a9d8a>, line 2)",
     "output_type": "error",
     "traceback": [
      "\u001b[1;36m  File \u001b[1;32m\"<ipython-input-5-fbc26c6a9d8a>\"\u001b[1;36m, line \u001b[1;32m2\u001b[0m\n\u001b[1;33m    if (n := 30) > 10:\u001b[0m\n\u001b[1;37m          ^\u001b[0m\n\u001b[1;31mSyntaxError\u001b[0m\u001b[1;31m:\u001b[0m invalid syntax\n"
     ]
    }
   ],
   "source": [
    "# with walrus\n",
    "if (n := 30) > 10:\n",
    "    print(f\"{n} is greater than 10\")"
   ]
  },
  {
   "cell_type": "markdown",
   "metadata": {},
   "source": [
    "It supports in Python 3.8 "
   ]
  },
  {
   "cell_type": "markdown",
   "metadata": {},
   "source": [
    "Very recently, Python 3.8 introduced the use of ‘colon equals’ (:=), which is similar to the equals operator (=). \n",
    "The use of this operator allows for speedup and shortened code, and it’s definitely valuable to understand.\n",
    "This notation comes from a complaint rooted in mathematics. When we write equations in mathematics, we may write something like a=5, a+b=7. \n",
    "Then, one could use simple algebraic manipulation to find that b=2. In this context, the equals sign means equality. \n",
    "The variables a and b are constant numbers, and while their value is not known at the initialization of the problem, it exists and does not change.\n",
    "On the other hand, in mathematics, there exists a different notation for the relationship ‘x is defined to be y’. If one were to write x := y, it is not that x and y share a relationship of quantitative equality but that x is defined to be whatever value y is. It’s more one-way than symmetrical. \n",
    "This is a bit tricky to wrap your head around, but the notation is really only for long lists of variable definitions at the beginning of highly technical research papers.\n",
    "Regardless, in the most recent version of Python 3.8 has emerged the accepted use of :=, or the ‘walrus operator’ (it indeed does look like a horizontal walrus). While it doesn’t address the mathematical complaint in full, it comes from the same idea of defining a variable within an expression in a programming context.\n"
   ]
  },
  {
   "cell_type": "code",
   "execution_count": 9,
   "metadata": {},
   "outputs": [],
   "source": [
    "f = lambda x : x+2"
   ]
  },
  {
   "cell_type": "code",
   "execution_count": 10,
   "metadata": {},
   "outputs": [
    {
     "data": {
      "text/plain": [
       "[3, 5, 6]"
      ]
     },
     "execution_count": 10,
     "metadata": {},
     "output_type": "execute_result"
    }
   ],
   "source": [
    "data = [1,2,3,4]\n",
    "f_data = [f(x) for x in data if f(x) is not 4]\n",
    "f_data"
   ]
  },
  {
   "cell_type": "code",
   "execution_count": 6,
   "metadata": {},
   "outputs": [
    {
     "ename": "SyntaxError",
     "evalue": "invalid syntax (<ipython-input-6-fe1b9cd143e5>, line 2)",
     "output_type": "error",
     "traceback": [
      "\u001b[1;36m  File \u001b[1;32m\"<ipython-input-6-fe1b9cd143e5>\"\u001b[1;36m, line \u001b[1;32m2\u001b[0m\n\u001b[1;33m    f_data = [y for x in data if (y := f(x)) is not 4]\u001b[0m\n\u001b[1;37m                                    ^\u001b[0m\n\u001b[1;31mSyntaxError\u001b[0m\u001b[1;31m:\u001b[0m invalid syntax\n"
     ]
    }
   ],
   "source": [
    "data = [1,2,3,4]\n",
    "f_data = [y for x in data if (y := f(x)) is not 4]\n",
    "f_data"
   ]
  },
  {
   "cell_type": "markdown",
   "metadata": {},
   "source": [
    "# := can be used to assign variables while another expression is being evaluated."
   ]
  },
  {
   "cell_type": "markdown",
   "metadata": {},
   "source": [
    "# Key Points\n",
    "The walrus operator is denoted :=, and introduced in Python 3.8.\n",
    "\n",
    "This operator is used for and only for the assignment of variables within another expression. At the very least, it can save one or more lines of code, and at most, it can dramatically speed up the processing of large data.\n",
    "\n",
    "Walrus operators can be used everywhere from loops to functions to list comprehension to if statements to roundabout variable assignment."
   ]
  },
  {
   "cell_type": "markdown",
   "metadata": {},
   "source": [
    "https://towardsdatascience.com/when-and-why-to-use-over-in-python-b91168875453#:~:text=The%20walrus%20operator%20is%20denoted,the%20processing%20of%20large%20data."
   ]
  },
  {
   "cell_type": "code",
   "execution_count": null,
   "metadata": {},
   "outputs": [],
   "source": []
  }
 ],
 "metadata": {
  "kernelspec": {
   "display_name": "Python 3",
   "language": "python",
   "name": "python3"
  },
  "language_info": {
   "codemirror_mode": {
    "name": "ipython",
    "version": 3
   },
   "file_extension": ".py",
   "mimetype": "text/x-python",
   "name": "python",
   "nbconvert_exporter": "python",
   "pygments_lexer": "ipython3",
   "version": "3.8.5"
  }
 },
 "nbformat": 4,
 "nbformat_minor": 2
}
