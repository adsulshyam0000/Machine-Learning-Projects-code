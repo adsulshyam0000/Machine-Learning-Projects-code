{
 "cells": [
  {
   "cell_type": "code",
   "execution_count": 23,
   "id": "governmental-dominican",
   "metadata": {},
   "outputs": [
    {
     "data": {
      "text/html": [
       "<div>\n",
       "<style scoped>\n",
       "    .dataframe tbody tr th:only-of-type {\n",
       "        vertical-align: middle;\n",
       "    }\n",
       "\n",
       "    .dataframe tbody tr th {\n",
       "        vertical-align: top;\n",
       "    }\n",
       "\n",
       "    .dataframe thead th {\n",
       "        text-align: right;\n",
       "    }\n",
       "</style>\n",
       "<table border=\"1\" class=\"dataframe\">\n",
       "  <thead>\n",
       "    <tr style=\"text-align: right;\">\n",
       "      <th></th>\n",
       "      <th>Open</th>\n",
       "      <th>High</th>\n",
       "      <th>Low</th>\n",
       "      <th>Close</th>\n",
       "      <th>Volume</th>\n",
       "    </tr>\n",
       "    <tr>\n",
       "      <th>Date</th>\n",
       "      <th></th>\n",
       "      <th></th>\n",
       "      <th></th>\n",
       "      <th></th>\n",
       "      <th></th>\n",
       "    </tr>\n",
       "  </thead>\n",
       "  <tbody>\n",
       "    <tr>\n",
       "      <th>2017-07-07</th>\n",
       "      <td>142.90</td>\n",
       "      <td>144.75</td>\n",
       "      <td>142.90</td>\n",
       "      <td>144.18</td>\n",
       "      <td>19201712</td>\n",
       "    </tr>\n",
       "    <tr>\n",
       "      <th>2017-07-06</th>\n",
       "      <td>143.02</td>\n",
       "      <td>143.50</td>\n",
       "      <td>142.41</td>\n",
       "      <td>142.73</td>\n",
       "      <td>24128782</td>\n",
       "    </tr>\n",
       "    <tr>\n",
       "      <th>2017-07-05</th>\n",
       "      <td>143.69</td>\n",
       "      <td>144.79</td>\n",
       "      <td>142.72</td>\n",
       "      <td>144.09</td>\n",
       "      <td>21569557</td>\n",
       "    </tr>\n",
       "    <tr>\n",
       "      <th>2017-07-03</th>\n",
       "      <td>144.88</td>\n",
       "      <td>145.30</td>\n",
       "      <td>143.10</td>\n",
       "      <td>143.50</td>\n",
       "      <td>14277848</td>\n",
       "    </tr>\n",
       "    <tr>\n",
       "      <th>2017-06-30</th>\n",
       "      <td>144.45</td>\n",
       "      <td>144.96</td>\n",
       "      <td>143.78</td>\n",
       "      <td>144.02</td>\n",
       "      <td>23024107</td>\n",
       "    </tr>\n",
       "    <tr>\n",
       "      <th>...</th>\n",
       "      <td>...</td>\n",
       "      <td>...</td>\n",
       "      <td>...</td>\n",
       "      <td>...</td>\n",
       "      <td>...</td>\n",
       "    </tr>\n",
       "    <tr>\n",
       "      <th>2016-07-15</th>\n",
       "      <td>98.92</td>\n",
       "      <td>99.30</td>\n",
       "      <td>98.50</td>\n",
       "      <td>98.78</td>\n",
       "      <td>30136990</td>\n",
       "    </tr>\n",
       "    <tr>\n",
       "      <th>2016-07-14</th>\n",
       "      <td>97.39</td>\n",
       "      <td>98.99</td>\n",
       "      <td>97.32</td>\n",
       "      <td>98.79</td>\n",
       "      <td>38918997</td>\n",
       "    </tr>\n",
       "    <tr>\n",
       "      <th>2016-07-13</th>\n",
       "      <td>97.41</td>\n",
       "      <td>97.67</td>\n",
       "      <td>96.84</td>\n",
       "      <td>96.87</td>\n",
       "      <td>25892171</td>\n",
       "    </tr>\n",
       "    <tr>\n",
       "      <th>2016-07-12</th>\n",
       "      <td>97.17</td>\n",
       "      <td>97.70</td>\n",
       "      <td>97.12</td>\n",
       "      <td>97.42</td>\n",
       "      <td>24167463</td>\n",
       "    </tr>\n",
       "    <tr>\n",
       "      <th>2016-07-11</th>\n",
       "      <td>96.75</td>\n",
       "      <td>97.65</td>\n",
       "      <td>96.73</td>\n",
       "      <td>96.98</td>\n",
       "      <td>23794945</td>\n",
       "    </tr>\n",
       "  </tbody>\n",
       "</table>\n",
       "<p>251 rows × 5 columns</p>\n",
       "</div>"
      ],
      "text/plain": [
       "              Open    High     Low   Close    Volume\n",
       "Date                                                \n",
       "2017-07-07  142.90  144.75  142.90  144.18  19201712\n",
       "2017-07-06  143.02  143.50  142.41  142.73  24128782\n",
       "2017-07-05  143.69  144.79  142.72  144.09  21569557\n",
       "2017-07-03  144.88  145.30  143.10  143.50  14277848\n",
       "2017-06-30  144.45  144.96  143.78  144.02  23024107\n",
       "...            ...     ...     ...     ...       ...\n",
       "2016-07-15   98.92   99.30   98.50   98.78  30136990\n",
       "2016-07-14   97.39   98.99   97.32   98.79  38918997\n",
       "2016-07-13   97.41   97.67   96.84   96.87  25892171\n",
       "2016-07-12   97.17   97.70   97.12   97.42  24167463\n",
       "2016-07-11   96.75   97.65   96.73   96.98  23794945\n",
       "\n",
       "[251 rows x 5 columns]"
      ]
     },
     "execution_count": 23,
     "metadata": {},
     "output_type": "execute_result"
    }
   ],
   "source": [
    "import numpy as np\n",
    "import pandas as pd\n",
    "import seaborn  as sns\n",
    "import matplotlib.pyplot as plt\n",
    "%matplotlib inline\n",
    "\n",
    "import os\n",
    "os.chdir(r'C:\\Users\\Shyam Adsul\\Python codes SSPU\\Data sets')\n",
    "\n",
    "df = pd.read_csv('aapl.csv',parse_dates=['Date'],index_col=\"Date\")\n",
    "\n",
    "df\n"
   ]
  },
  {
   "cell_type": "code",
   "execution_count": 24,
   "id": "common-prisoner",
   "metadata": {},
   "outputs": [
    {
     "data": {
      "text/html": [
       "<div>\n",
       "<style scoped>\n",
       "    .dataframe tbody tr th:only-of-type {\n",
       "        vertical-align: middle;\n",
       "    }\n",
       "\n",
       "    .dataframe tbody tr th {\n",
       "        vertical-align: top;\n",
       "    }\n",
       "\n",
       "    .dataframe thead th {\n",
       "        text-align: right;\n",
       "    }\n",
       "</style>\n",
       "<table border=\"1\" class=\"dataframe\">\n",
       "  <thead>\n",
       "    <tr style=\"text-align: right;\">\n",
       "      <th></th>\n",
       "      <th>Open</th>\n",
       "      <th>High</th>\n",
       "      <th>Low</th>\n",
       "      <th>Close</th>\n",
       "      <th>Volume</th>\n",
       "    </tr>\n",
       "  </thead>\n",
       "  <tbody>\n",
       "    <tr>\n",
       "      <th>count</th>\n",
       "      <td>251.000000</td>\n",
       "      <td>251.000000</td>\n",
       "      <td>251.000000</td>\n",
       "      <td>251.000000</td>\n",
       "      <td>2.510000e+02</td>\n",
       "    </tr>\n",
       "    <tr>\n",
       "      <th>mean</th>\n",
       "      <td>125.344183</td>\n",
       "      <td>126.201514</td>\n",
       "      <td>124.602829</td>\n",
       "      <td>125.487490</td>\n",
       "      <td>3.049583e+07</td>\n",
       "    </tr>\n",
       "    <tr>\n",
       "      <th>std</th>\n",
       "      <td>17.295608</td>\n",
       "      <td>17.292536</td>\n",
       "      <td>17.157672</td>\n",
       "      <td>17.223805</td>\n",
       "      <td>1.417357e+07</td>\n",
       "    </tr>\n",
       "    <tr>\n",
       "      <th>min</th>\n",
       "      <td>96.750000</td>\n",
       "      <td>97.650000</td>\n",
       "      <td>96.420000</td>\n",
       "      <td>96.670000</td>\n",
       "      <td>1.147592e+07</td>\n",
       "    </tr>\n",
       "    <tr>\n",
       "      <th>25%</th>\n",
       "      <td>110.570000</td>\n",
       "      <td>111.615000</td>\n",
       "      <td>109.680000</td>\n",
       "      <td>111.045000</td>\n",
       "      <td>2.211917e+07</td>\n",
       "    </tr>\n",
       "    <tr>\n",
       "      <th>50%</th>\n",
       "      <td>117.950000</td>\n",
       "      <td>118.690000</td>\n",
       "      <td>117.450000</td>\n",
       "      <td>118.250000</td>\n",
       "      <td>2.652800e+07</td>\n",
       "    </tr>\n",
       "    <tr>\n",
       "      <th>75%</th>\n",
       "      <td>142.670000</td>\n",
       "      <td>143.425000</td>\n",
       "      <td>141.505000</td>\n",
       "      <td>142.355000</td>\n",
       "      <td>3.392420e+07</td>\n",
       "    </tr>\n",
       "    <tr>\n",
       "      <th>max</th>\n",
       "      <td>156.010000</td>\n",
       "      <td>156.650000</td>\n",
       "      <td>155.050000</td>\n",
       "      <td>156.100000</td>\n",
       "      <td>1.123403e+08</td>\n",
       "    </tr>\n",
       "  </tbody>\n",
       "</table>\n",
       "</div>"
      ],
      "text/plain": [
       "             Open        High         Low       Close        Volume\n",
       "count  251.000000  251.000000  251.000000  251.000000  2.510000e+02\n",
       "mean   125.344183  126.201514  124.602829  125.487490  3.049583e+07\n",
       "std     17.295608   17.292536   17.157672   17.223805  1.417357e+07\n",
       "min     96.750000   97.650000   96.420000   96.670000  1.147592e+07\n",
       "25%    110.570000  111.615000  109.680000  111.045000  2.211917e+07\n",
       "50%    117.950000  118.690000  117.450000  118.250000  2.652800e+07\n",
       "75%    142.670000  143.425000  141.505000  142.355000  3.392420e+07\n",
       "max    156.010000  156.650000  155.050000  156.100000  1.123403e+08"
      ]
     },
     "execution_count": 24,
     "metadata": {},
     "output_type": "execute_result"
    }
   ],
   "source": [
    "\n",
    "df.describe()\n",
    "\n",
    "\n",
    "\n"
   ]
  },
  {
   "cell_type": "code",
   "execution_count": 25,
   "id": "continued-interstate",
   "metadata": {},
   "outputs": [
    {
     "data": {
      "text/plain": [
       "<AxesSubplot:xlabel='Date'>"
      ]
     },
     "execution_count": 25,
     "metadata": {},
     "output_type": "execute_result"
    },
    {
     "data": {
      "image/png": "[encoded data removed]",
      "text/plain": [
       "<Figure size 432x288 with 1 Axes>"
      ]
     },
     "metadata": {
      "needs_background": "light"
     },
     "output_type": "display_data"
    }
   ],
   "source": [
    "\n",
    "df.plot()\n",
    "\n"
   ]
  },
  {
   "cell_type": "code",
   "execution_count": 26,
   "id": "hidden-haven",
   "metadata": {},
   "outputs": [
    {
     "data": {
      "text/plain": [
       "Open      float64\n",
       "High      float64\n",
       "Low       float64\n",
       "Close     float64\n",
       "Volume      int64\n",
       "dtype: object"
      ]
     },
     "execution_count": 26,
     "metadata": {},
     "output_type": "execute_result"
    }
   ],
   "source": [
    "\n",
    "df.dtypes\n"
   ]
  },
  {
   "cell_type": "code",
   "execution_count": 27,
   "id": "private-dream",
   "metadata": {},
   "outputs": [
    {
     "name": "stdout",
     "output_type": "stream",
     "text": [
      "Date\n",
      "2016-12-31    110.168361\n",
      "2017-12-31    139.975349\n",
      "Freq: A-DEC, Name: Close, dtype: float64 \n",
      "\n",
      "Date\n",
      "2016-07-31     99.473333\n",
      "2016-08-31    107.665217\n",
      "2016-09-30    110.857143\n",
      "2016-10-31    115.707143\n",
      "2016-11-30    110.154286\n",
      "Freq: M, Name: Close, dtype: float64 \n",
      "\n",
      "Date\n",
      "2016-07-11    96.98\n",
      "2016-07-12    97.42\n",
      "2016-07-13    96.87\n",
      "2016-07-14    98.79\n",
      "2016-07-15    98.78\n",
      "Freq: D, Name: Close, dtype: float64 \n",
      "\n",
      "Date\n",
      "2016-07-17     97.768\n",
      "2016-07-24     99.550\n",
      "2016-07-31    101.102\n",
      "2016-08-07    105.934\n",
      "2016-08-14    108.258\n",
      "Freq: W-SUN, Name: Close, dtype: float64 \n",
      "\n"
     ]
    }
   ],
   "source": [
    "#resampling  Rules in pandas\n",
    "\n",
    "print(df['Close'].resample('Y').mean().head(),\"\\n\")\n",
    "print(df['Close'].resample('M').mean().head(),\"\\n\")\n",
    "print(df['Close'].resample('D').mean().head(),\"\\n\")\n",
    "\n",
    "print(df['Close'].resample('W').mean().head(),\"\\n\")\n",
    "\n"
   ]
  },
  {
   "cell_type": "code",
   "execution_count": 28,
   "id": "intellectual-station",
   "metadata": {},
   "outputs": [
    {
     "data": {
      "text/plain": [
       "<AxesSubplot:xlabel='Date'>"
      ]
     },
     "execution_count": 28,
     "metadata": {},
     "output_type": "execute_result"
    },
    {
     "data": {
      "image/png": "[encoded data removed]",
      "text/plain": [
       "<Figure size 432x288 with 1 Axes>"
      ]
     },
     "metadata": {
      "needs_background": "light"
     },
     "output_type": "display_data"
    }
   ],
   "source": [
    "df['Close'].plot()"
   ]
  },
  {
   "cell_type": "code",
   "execution_count": 29,
   "id": "bright-block",
   "metadata": {},
   "outputs": [
    {
     "data": {
      "text/plain": [
       "<AxesSubplot:xlabel='Date'>"
      ]
     },
     "execution_count": 29,
     "metadata": {},
     "output_type": "execute_result"
    },
    {
     "data": {
      "image/png": "[encoded data removed]",
      "text/plain": [
       "<Figure size 432x288 with 1 Axes>"
      ]
     },
     "metadata": {
      "needs_background": "light"
     },
     "output_type": "display_data"
    }
   ],
   "source": [
    "df['Open'].plot()\n"
   ]
  },
  {
   "cell_type": "code",
   "execution_count": 30,
   "id": "regional-guard",
   "metadata": {},
   "outputs": [
    {
     "data": {
      "text/plain": [
       "Open      0\n",
       "High      0\n",
       "Low       0\n",
       "Close     0\n",
       "Volume    0\n",
       "dtype: int64"
      ]
     },
     "execution_count": 30,
     "metadata": {},
     "output_type": "execute_result"
    }
   ],
   "source": [
    "\n",
    "df.isnull().sum()"
   ]
  },
  {
   "cell_type": "code",
   "execution_count": 31,
   "id": "fluid-democrat",
   "metadata": {
    "scrolled": true
   },
   "outputs": [
    {
     "data": {
      "text/plain": [
       "<AxesSubplot:xlabel='Date'>"
      ]
     },
     "execution_count": 31,
     "metadata": {},
     "output_type": "execute_result"
    },
    {
     "data": {
      "image/png": "[encoded data removed]",
      "text/plain": [
       "<Figure size 432x288 with 1 Axes>"
      ]
     },
     "metadata": {
      "needs_background": "light"
     },
     "output_type": "display_data"
    }
   ],
   "source": [
    "df['Close'].resample('M').mean().plot(kind='bar')"
   ]
  },
  {
   "cell_type": "code",
   "execution_count": 32,
   "id": "handled-cancer",
   "metadata": {},
   "outputs": [
    {
     "data": {
      "text/html": [
       "<div>\n",
       "<style scoped>\n",
       "    .dataframe tbody tr th:only-of-type {\n",
       "        vertical-align: middle;\n",
       "    }\n",
       "\n",
       "    .dataframe tbody tr th {\n",
       "        vertical-align: top;\n",
       "    }\n",
       "\n",
       "    .dataframe thead th {\n",
       "        text-align: right;\n",
       "    }\n",
       "</style>\n",
       "<table border=\"1\" class=\"dataframe\">\n",
       "  <thead>\n",
       "    <tr style=\"text-align: right;\">\n",
       "      <th></th>\n",
       "      <th>Open</th>\n",
       "      <th>High</th>\n",
       "      <th>Low</th>\n",
       "      <th>Close</th>\n",
       "      <th>Volume</th>\n",
       "    </tr>\n",
       "    <tr>\n",
       "      <th>Date</th>\n",
       "      <th></th>\n",
       "      <th></th>\n",
       "      <th></th>\n",
       "      <th></th>\n",
       "      <th></th>\n",
       "    </tr>\n",
       "  </thead>\n",
       "  <tbody>\n",
       "    <tr>\n",
       "      <th>2016-07-29</th>\n",
       "      <td>104.19</td>\n",
       "      <td>104.55</td>\n",
       "      <td>103.68</td>\n",
       "      <td>104.21</td>\n",
       "      <td>27733688</td>\n",
       "    </tr>\n",
       "    <tr>\n",
       "      <th>2016-07-28</th>\n",
       "      <td>102.83</td>\n",
       "      <td>104.45</td>\n",
       "      <td>102.82</td>\n",
       "      <td>104.34</td>\n",
       "      <td>39869839</td>\n",
       "    </tr>\n",
       "    <tr>\n",
       "      <th>2016-07-27</th>\n",
       "      <td>104.26</td>\n",
       "      <td>104.35</td>\n",
       "      <td>102.75</td>\n",
       "      <td>102.95</td>\n",
       "      <td>92344820</td>\n",
       "    </tr>\n",
       "    <tr>\n",
       "      <th>2016-07-26</th>\n",
       "      <td>96.82</td>\n",
       "      <td>97.97</td>\n",
       "      <td>96.42</td>\n",
       "      <td>96.67</td>\n",
       "      <td>56239822</td>\n",
       "    </tr>\n",
       "    <tr>\n",
       "      <th>2016-07-25</th>\n",
       "      <td>98.25</td>\n",
       "      <td>98.84</td>\n",
       "      <td>96.92</td>\n",
       "      <td>97.34</td>\n",
       "      <td>40382921</td>\n",
       "    </tr>\n",
       "  </tbody>\n",
       "</table>\n",
       "</div>"
      ],
      "text/plain": [
       "              Open    High     Low   Close    Volume\n",
       "Date                                                \n",
       "2016-07-29  104.19  104.55  103.68  104.21  27733688\n",
       "2016-07-28  102.83  104.45  102.82  104.34  39869839\n",
       "2016-07-27  104.26  104.35  102.75  102.95  92344820\n",
       "2016-07-26   96.82   97.97   96.42   96.67  56239822\n",
       "2016-07-25   98.25   98.84   96.92   97.34  40382921"
      ]
     },
     "execution_count": 32,
     "metadata": {},
     "output_type": "execute_result"
    }
   ],
   "source": [
    "df.loc['2016-07'].iloc[:5:]"
   ]
  },
  {
   "cell_type": "code",
   "execution_count": 33,
   "id": "handy-behalf",
   "metadata": {},
   "outputs": [
    {
     "data": {
      "text/html": [
       "<div>\n",
       "<style scoped>\n",
       "    .dataframe tbody tr th:only-of-type {\n",
       "        vertical-align: middle;\n",
       "    }\n",
       "\n",
       "    .dataframe tbody tr th {\n",
       "        vertical-align: top;\n",
       "    }\n",
       "\n",
       "    .dataframe thead th {\n",
       "        text-align: right;\n",
       "    }\n",
       "</style>\n",
       "<table border=\"1\" class=\"dataframe\">\n",
       "  <thead>\n",
       "    <tr style=\"text-align: right;\">\n",
       "      <th></th>\n",
       "      <th>Open</th>\n",
       "      <th>High</th>\n",
       "      <th>Low</th>\n",
       "      <th>Close</th>\n",
       "      <th>Volume</th>\n",
       "    </tr>\n",
       "    <tr>\n",
       "      <th>Date</th>\n",
       "      <th></th>\n",
       "      <th></th>\n",
       "      <th></th>\n",
       "      <th></th>\n",
       "      <th></th>\n",
       "    </tr>\n",
       "  </thead>\n",
       "  <tbody>\n",
       "    <tr>\n",
       "      <th>2016-07-29</th>\n",
       "      <td>104.19</td>\n",
       "      <td>104.55</td>\n",
       "      <td>103.68</td>\n",
       "      <td>104.21</td>\n",
       "      <td>27733688</td>\n",
       "    </tr>\n",
       "    <tr>\n",
       "      <th>2016-07-28</th>\n",
       "      <td>102.83</td>\n",
       "      <td>104.45</td>\n",
       "      <td>102.82</td>\n",
       "      <td>104.34</td>\n",
       "      <td>39869839</td>\n",
       "    </tr>\n",
       "    <tr>\n",
       "      <th>2016-07-27</th>\n",
       "      <td>104.26</td>\n",
       "      <td>104.35</td>\n",
       "      <td>102.75</td>\n",
       "      <td>102.95</td>\n",
       "      <td>92344820</td>\n",
       "    </tr>\n",
       "    <tr>\n",
       "      <th>2016-07-26</th>\n",
       "      <td>96.82</td>\n",
       "      <td>97.97</td>\n",
       "      <td>96.42</td>\n",
       "      <td>96.67</td>\n",
       "      <td>56239822</td>\n",
       "    </tr>\n",
       "    <tr>\n",
       "      <th>2016-07-25</th>\n",
       "      <td>98.25</td>\n",
       "      <td>98.84</td>\n",
       "      <td>96.92</td>\n",
       "      <td>97.34</td>\n",
       "      <td>40382921</td>\n",
       "    </tr>\n",
       "    <tr>\n",
       "      <th>2016-07-22</th>\n",
       "      <td>99.26</td>\n",
       "      <td>99.30</td>\n",
       "      <td>98.31</td>\n",
       "      <td>98.66</td>\n",
       "      <td>28313669</td>\n",
       "    </tr>\n",
       "    <tr>\n",
       "      <th>2016-07-21</th>\n",
       "      <td>99.83</td>\n",
       "      <td>101.00</td>\n",
       "      <td>99.13</td>\n",
       "      <td>99.43</td>\n",
       "      <td>32702028</td>\n",
       "    </tr>\n",
       "    <tr>\n",
       "      <th>2016-07-20</th>\n",
       "      <td>100.00</td>\n",
       "      <td>100.46</td>\n",
       "      <td>99.74</td>\n",
       "      <td>99.96</td>\n",
       "      <td>26275968</td>\n",
       "    </tr>\n",
       "    <tr>\n",
       "      <th>2016-07-19</th>\n",
       "      <td>99.56</td>\n",
       "      <td>100.00</td>\n",
       "      <td>99.34</td>\n",
       "      <td>99.87</td>\n",
       "      <td>23779924</td>\n",
       "    </tr>\n",
       "    <tr>\n",
       "      <th>2016-07-18</th>\n",
       "      <td>98.70</td>\n",
       "      <td>100.13</td>\n",
       "      <td>98.60</td>\n",
       "      <td>99.83</td>\n",
       "      <td>36493867</td>\n",
       "    </tr>\n",
       "    <tr>\n",
       "      <th>2016-07-15</th>\n",
       "      <td>98.92</td>\n",
       "      <td>99.30</td>\n",
       "      <td>98.50</td>\n",
       "      <td>98.78</td>\n",
       "      <td>30136990</td>\n",
       "    </tr>\n",
       "    <tr>\n",
       "      <th>2016-07-14</th>\n",
       "      <td>97.39</td>\n",
       "      <td>98.99</td>\n",
       "      <td>97.32</td>\n",
       "      <td>98.79</td>\n",
       "      <td>38918997</td>\n",
       "    </tr>\n",
       "    <tr>\n",
       "      <th>2016-07-13</th>\n",
       "      <td>97.41</td>\n",
       "      <td>97.67</td>\n",
       "      <td>96.84</td>\n",
       "      <td>96.87</td>\n",
       "      <td>25892171</td>\n",
       "    </tr>\n",
       "    <tr>\n",
       "      <th>2016-07-12</th>\n",
       "      <td>97.17</td>\n",
       "      <td>97.70</td>\n",
       "      <td>97.12</td>\n",
       "      <td>97.42</td>\n",
       "      <td>24167463</td>\n",
       "    </tr>\n",
       "    <tr>\n",
       "      <th>2016-07-11</th>\n",
       "      <td>96.75</td>\n",
       "      <td>97.65</td>\n",
       "      <td>96.73</td>\n",
       "      <td>96.98</td>\n",
       "      <td>23794945</td>\n",
       "    </tr>\n",
       "  </tbody>\n",
       "</table>\n",
       "</div>"
      ],
      "text/plain": [
       "              Open    High     Low   Close    Volume\n",
       "Date                                                \n",
       "2016-07-29  104.19  104.55  103.68  104.21  27733688\n",
       "2016-07-28  102.83  104.45  102.82  104.34  39869839\n",
       "2016-07-27  104.26  104.35  102.75  102.95  92344820\n",
       "2016-07-26   96.82   97.97   96.42   96.67  56239822\n",
       "2016-07-25   98.25   98.84   96.92   97.34  40382921\n",
       "2016-07-22   99.26   99.30   98.31   98.66  28313669\n",
       "2016-07-21   99.83  101.00   99.13   99.43  32702028\n",
       "2016-07-20  100.00  100.46   99.74   99.96  26275968\n",
       "2016-07-19   99.56  100.00   99.34   99.87  23779924\n",
       "2016-07-18   98.70  100.13   98.60   99.83  36493867\n",
       "2016-07-15   98.92   99.30   98.50   98.78  30136990\n",
       "2016-07-14   97.39   98.99   97.32   98.79  38918997\n",
       "2016-07-13   97.41   97.67   96.84   96.87  25892171\n",
       "2016-07-12   97.17   97.70   97.12   97.42  24167463\n",
       "2016-07-11   96.75   97.65   96.73   96.98  23794945"
      ]
     },
     "execution_count": 33,
     "metadata": {},
     "output_type": "execute_result"
    }
   ],
   "source": [
    "df.loc['2016-07']"
   ]
  },
  {
   "cell_type": "code",
   "execution_count": 38,
   "id": "upper-perry",
   "metadata": {},
   "outputs": [
    {
     "data": {
      "text/plain": [
       "DatetimeIndex(['2016-06-05', '2016-06-12', '2016-06-19', '2016-06-26'], dtype='datetime64[ns]', freq='W-SUN')"
      ]
     },
     "execution_count": 38,
     "metadata": {},
     "output_type": "execute_result"
    }
   ],
   "source": [
    "rng = pd.date_range(start=\"6/1/2016\",end= \"6/30/2016\",freq='W')\n",
    "rng"
   ]
  },
  {
   "cell_type": "code",
   "execution_count": 42,
   "id": "international-complaint",
   "metadata": {},
   "outputs": [
    {
     "data": {
      "text/plain": [
       "DatetimeIndex(['2016-06-01', '2016-06-02', '2016-06-03', '2016-06-04',\n",
       "               '2016-06-05', '2016-06-06', '2016-06-07', '2016-06-08',\n",
       "               '2016-06-09', '2016-06-10', '2016-06-11', '2016-06-12',\n",
       "               '2016-06-13', '2016-06-14', '2016-06-15', '2016-06-16',\n",
       "               '2016-06-17', '2016-06-18', '2016-06-19', '2016-06-20',\n",
       "               '2016-06-21', '2016-06-22', '2016-06-23', '2016-06-24',\n",
       "               '2016-06-25', '2016-06-26', '2016-06-27', '2016-06-28',\n",
       "               '2016-06-29', '2016-06-30'],\n",
       "              dtype='datetime64[ns]', freq='D')"
      ]
     },
     "execution_count": 42,
     "metadata": {},
     "output_type": "execute_result"
    }
   ],
   "source": [
    "rng = pd.date_range(start=\"6/1/2016\",end= \"6/30/2016\",freq='D')\n",
    "rng"
   ]
  },
  {
   "cell_type": "code",
   "execution_count": 43,
   "id": "latter-contemporary",
   "metadata": {},
   "outputs": [
    {
     "data": {
      "text/plain": [
       "DatetimeIndex(['2016-06-01', '2016-06-02', '2016-06-03', '2016-06-06',\n",
       "               '2016-06-07', '2016-06-08', '2016-06-09', '2016-06-10',\n",
       "               '2016-06-13', '2016-06-14', '2016-06-15', '2016-06-16',\n",
       "               '2016-06-17', '2016-06-20', '2016-06-21', '2016-06-22',\n",
       "               '2016-06-23', '2016-06-24', '2016-06-27', '2016-06-28',\n",
       "               '2016-06-29', '2016-06-30'],\n",
       "              dtype='datetime64[ns]', freq='B')"
      ]
     },
     "execution_count": 43,
     "metadata": {},
     "output_type": "execute_result"
    }
   ],
   "source": [
    "rng = pd.date_range(start=\"6/1/2016\",end= \"6/30/2016\",freq='B')\n",
    "rng"
   ]
  },
  {
   "cell_type": "code",
   "execution_count": 40,
   "id": "sharing-underwear",
   "metadata": {},
   "outputs": [
    {
     "data": {
      "text/plain": [
       "<AxesSubplot:xlabel='Date'>"
      ]
     },
     "execution_count": 40,
     "metadata": {},
     "output_type": "execute_result"
    },
    {
     "data": {
      "image/png": "[encoded data removed]",
      "text/plain": [
       "<Figure size 432x288 with 1 Axes>"
      ]
     },
     "metadata": {
      "needs_background": "light"
     },
     "output_type": "display_data"
    }
   ],
   "source": [
    "%matplotlib inline\n",
    "df.Close.plot()"
   ]
  },
  {
   "cell_type": "code",
   "execution_count": 41,
   "id": "informational-cedar",
   "metadata": {},
   "outputs": [
    {
     "data": {
      "text/plain": [
       "DatetimeIndex(['2017-07-07', '2017-07-06', '2017-07-05', '2017-07-03',\n",
       "               '2017-06-30', '2017-06-29', '2017-06-28', '2017-06-27',\n",
       "               '2017-06-26', '2017-06-23',\n",
       "               ...\n",
       "               '2016-07-22', '2016-07-21', '2016-07-20', '2016-07-19',\n",
       "               '2016-07-18', '2016-07-15', '2016-07-14', '2016-07-13',\n",
       "               '2016-07-12', '2016-07-11'],\n",
       "              dtype='datetime64[ns]', name='Date', length=251, freq=None)"
      ]
     },
     "execution_count": 41,
     "metadata": {},
     "output_type": "execute_result"
    }
   ],
   "source": [
    "df.index"
   ]
  },
  {
   "cell_type": "code",
   "execution_count": 46,
   "id": "collect-guatemala",
   "metadata": {},
   "outputs": [
    {
     "data": {
      "text/html": [
       "<div>\n",
       "<style scoped>\n",
       "    .dataframe tbody tr th:only-of-type {\n",
       "        vertical-align: middle;\n",
       "    }\n",
       "\n",
       "    .dataframe tbody tr th {\n",
       "        vertical-align: top;\n",
       "    }\n",
       "\n",
       "    .dataframe thead th {\n",
       "        text-align: right;\n",
       "    }\n",
       "</style>\n",
       "<table border=\"1\" class=\"dataframe\">\n",
       "  <thead>\n",
       "    <tr style=\"text-align: right;\">\n",
       "      <th></th>\n",
       "      <th>Open</th>\n",
       "      <th>High</th>\n",
       "      <th>Low</th>\n",
       "      <th>Close</th>\n",
       "      <th>Volume</th>\n",
       "    </tr>\n",
       "    <tr>\n",
       "      <th>Date</th>\n",
       "      <th></th>\n",
       "      <th></th>\n",
       "      <th></th>\n",
       "      <th></th>\n",
       "      <th></th>\n",
       "    </tr>\n",
       "  </thead>\n",
       "  <tbody>\n",
       "    <tr>\n",
       "      <th>2017-01-31</th>\n",
       "      <td>121.15</td>\n",
       "      <td>121.39</td>\n",
       "      <td>120.62</td>\n",
       "      <td>121.35</td>\n",
       "      <td>49200993</td>\n",
       "    </tr>\n",
       "    <tr>\n",
       "      <th>2017-01-30</th>\n",
       "      <td>120.93</td>\n",
       "      <td>121.63</td>\n",
       "      <td>120.66</td>\n",
       "      <td>121.63</td>\n",
       "      <td>30377503</td>\n",
       "    </tr>\n",
       "    <tr>\n",
       "      <th>2017-01-27</th>\n",
       "      <td>122.14</td>\n",
       "      <td>122.35</td>\n",
       "      <td>121.60</td>\n",
       "      <td>121.95</td>\n",
       "      <td>20562944</td>\n",
       "    </tr>\n",
       "    <tr>\n",
       "      <th>2017-01-26</th>\n",
       "      <td>121.67</td>\n",
       "      <td>122.44</td>\n",
       "      <td>121.60</td>\n",
       "      <td>121.94</td>\n",
       "      <td>26337576</td>\n",
       "    </tr>\n",
       "    <tr>\n",
       "      <th>2017-01-25</th>\n",
       "      <td>120.42</td>\n",
       "      <td>122.10</td>\n",
       "      <td>120.28</td>\n",
       "      <td>121.88</td>\n",
       "      <td>32586673</td>\n",
       "    </tr>\n",
       "    <tr>\n",
       "      <th>2017-01-24</th>\n",
       "      <td>119.55</td>\n",
       "      <td>120.10</td>\n",
       "      <td>119.50</td>\n",
       "      <td>119.97</td>\n",
       "      <td>23211038</td>\n",
       "    </tr>\n",
       "    <tr>\n",
       "      <th>2017-01-23</th>\n",
       "      <td>120.00</td>\n",
       "      <td>120.81</td>\n",
       "      <td>119.77</td>\n",
       "      <td>120.08</td>\n",
       "      <td>22050218</td>\n",
       "    </tr>\n",
       "    <tr>\n",
       "      <th>2017-01-20</th>\n",
       "      <td>120.45</td>\n",
       "      <td>120.45</td>\n",
       "      <td>119.73</td>\n",
       "      <td>120.00</td>\n",
       "      <td>32597892</td>\n",
       "    </tr>\n",
       "    <tr>\n",
       "      <th>2017-01-19</th>\n",
       "      <td>119.40</td>\n",
       "      <td>120.09</td>\n",
       "      <td>119.37</td>\n",
       "      <td>119.78</td>\n",
       "      <td>25597291</td>\n",
       "    </tr>\n",
       "    <tr>\n",
       "      <th>2017-01-18</th>\n",
       "      <td>120.00</td>\n",
       "      <td>120.50</td>\n",
       "      <td>119.71</td>\n",
       "      <td>119.99</td>\n",
       "      <td>23712961</td>\n",
       "    </tr>\n",
       "    <tr>\n",
       "      <th>2017-01-17</th>\n",
       "      <td>118.34</td>\n",
       "      <td>120.24</td>\n",
       "      <td>118.22</td>\n",
       "      <td>120.00</td>\n",
       "      <td>34439843</td>\n",
       "    </tr>\n",
       "    <tr>\n",
       "      <th>2017-01-13</th>\n",
       "      <td>119.11</td>\n",
       "      <td>119.62</td>\n",
       "      <td>118.81</td>\n",
       "      <td>119.04</td>\n",
       "      <td>26111948</td>\n",
       "    </tr>\n",
       "    <tr>\n",
       "      <th>2017-01-12</th>\n",
       "      <td>118.90</td>\n",
       "      <td>119.30</td>\n",
       "      <td>118.21</td>\n",
       "      <td>119.25</td>\n",
       "      <td>27086220</td>\n",
       "    </tr>\n",
       "    <tr>\n",
       "      <th>2017-01-11</th>\n",
       "      <td>118.74</td>\n",
       "      <td>119.93</td>\n",
       "      <td>118.60</td>\n",
       "      <td>119.75</td>\n",
       "      <td>27588593</td>\n",
       "    </tr>\n",
       "    <tr>\n",
       "      <th>2017-01-10</th>\n",
       "      <td>118.77</td>\n",
       "      <td>119.38</td>\n",
       "      <td>118.30</td>\n",
       "      <td>119.11</td>\n",
       "      <td>24462051</td>\n",
       "    </tr>\n",
       "    <tr>\n",
       "      <th>2017-01-09</th>\n",
       "      <td>117.95</td>\n",
       "      <td>119.43</td>\n",
       "      <td>117.94</td>\n",
       "      <td>118.99</td>\n",
       "      <td>33561948</td>\n",
       "    </tr>\n",
       "    <tr>\n",
       "      <th>2017-01-06</th>\n",
       "      <td>116.78</td>\n",
       "      <td>118.16</td>\n",
       "      <td>116.47</td>\n",
       "      <td>117.91</td>\n",
       "      <td>31751900</td>\n",
       "    </tr>\n",
       "    <tr>\n",
       "      <th>2017-01-05</th>\n",
       "      <td>115.92</td>\n",
       "      <td>116.86</td>\n",
       "      <td>115.81</td>\n",
       "      <td>116.61</td>\n",
       "      <td>22193587</td>\n",
       "    </tr>\n",
       "    <tr>\n",
       "      <th>2017-01-04</th>\n",
       "      <td>115.85</td>\n",
       "      <td>116.51</td>\n",
       "      <td>115.75</td>\n",
       "      <td>116.02</td>\n",
       "      <td>21118116</td>\n",
       "    </tr>\n",
       "    <tr>\n",
       "      <th>2017-01-03</th>\n",
       "      <td>115.80</td>\n",
       "      <td>116.33</td>\n",
       "      <td>114.76</td>\n",
       "      <td>116.15</td>\n",
       "      <td>28781865</td>\n",
       "    </tr>\n",
       "  </tbody>\n",
       "</table>\n",
       "</div>"
      ],
      "text/plain": [
       "              Open    High     Low   Close    Volume\n",
       "Date                                                \n",
       "2017-01-31  121.15  121.39  120.62  121.35  49200993\n",
       "2017-01-30  120.93  121.63  120.66  121.63  30377503\n",
       "2017-01-27  122.14  122.35  121.60  121.95  20562944\n",
       "2017-01-26  121.67  122.44  121.60  121.94  26337576\n",
       "2017-01-25  120.42  122.10  120.28  121.88  32586673\n",
       "2017-01-24  119.55  120.10  119.50  119.97  23211038\n",
       "2017-01-23  120.00  120.81  119.77  120.08  22050218\n",
       "2017-01-20  120.45  120.45  119.73  120.00  32597892\n",
       "2017-01-19  119.40  120.09  119.37  119.78  25597291\n",
       "2017-01-18  120.00  120.50  119.71  119.99  23712961\n",
       "2017-01-17  118.34  120.24  118.22  120.00  34439843\n",
       "2017-01-13  119.11  119.62  118.81  119.04  26111948\n",
       "2017-01-12  118.90  119.30  118.21  119.25  27086220\n",
       "2017-01-11  118.74  119.93  118.60  119.75  27588593\n",
       "2017-01-10  118.77  119.38  118.30  119.11  24462051\n",
       "2017-01-09  117.95  119.43  117.94  118.99  33561948\n",
       "2017-01-06  116.78  118.16  116.47  117.91  31751900\n",
       "2017-01-05  115.92  116.86  115.81  116.61  22193587\n",
       "2017-01-04  115.85  116.51  115.75  116.02  21118116\n",
       "2017-01-03  115.80  116.33  114.76  116.15  28781865"
      ]
     },
     "execution_count": 46,
     "metadata": {},
     "output_type": "execute_result"
    }
   ],
   "source": [
    "df.loc['2017-01']"
   ]
  },
  {
   "cell_type": "code",
   "execution_count": 50,
   "id": "blocked-delight",
   "metadata": {},
   "outputs": [
    {
     "data": {
      "text/html": [
       "<div>\n",
       "<style scoped>\n",
       "    .dataframe tbody tr th:only-of-type {\n",
       "        vertical-align: middle;\n",
       "    }\n",
       "\n",
       "    .dataframe tbody tr th {\n",
       "        vertical-align: top;\n",
       "    }\n",
       "\n",
       "    .dataframe thead th {\n",
       "        text-align: right;\n",
       "    }\n",
       "</style>\n",
       "<table border=\"1\" class=\"dataframe\">\n",
       "  <thead>\n",
       "    <tr style=\"text-align: right;\">\n",
       "      <th></th>\n",
       "      <th>Open</th>\n",
       "      <th>High</th>\n",
       "      <th>Low</th>\n",
       "      <th>Close</th>\n",
       "      <th>Volume</th>\n",
       "    </tr>\n",
       "    <tr>\n",
       "      <th>Date</th>\n",
       "      <th></th>\n",
       "      <th></th>\n",
       "      <th></th>\n",
       "      <th></th>\n",
       "      <th></th>\n",
       "    </tr>\n",
       "  </thead>\n",
       "  <tbody>\n",
       "  </tbody>\n",
       "</table>\n",
       "</div>"
      ],
      "text/plain": [
       "Empty DataFrame\n",
       "Columns: [Open, High, Low, Close, Volume]\n",
       "Index: []"
      ]
     },
     "execution_count": 50,
     "metadata": {},
     "output_type": "execute_result"
    }
   ],
   "source": [
    "#asfreq\n",
    "df.asfreq('H',method='pad')"
   ]
  },
  {
   "cell_type": "code",
   "execution_count": 53,
   "id": "faced-reconstruction",
   "metadata": {},
   "outputs": [
    {
     "data": {
      "text/plain": [
       "DatetimeIndex(['2016-01-01 00:00:00', '2016-01-01 01:00:00',\n",
       "               '2016-01-01 02:00:00', '2016-01-01 03:00:00',\n",
       "               '2016-01-01 04:00:00', '2016-01-01 05:00:00',\n",
       "               '2016-01-01 06:00:00', '2016-01-01 07:00:00',\n",
       "               '2016-01-01 08:00:00', '2016-01-01 09:00:00',\n",
       "               '2016-01-01 10:00:00', '2016-01-01 11:00:00',\n",
       "               '2016-01-01 12:00:00', '2016-01-01 13:00:00',\n",
       "               '2016-01-01 14:00:00', '2016-01-01 15:00:00',\n",
       "               '2016-01-01 16:00:00', '2016-01-01 17:00:00',\n",
       "               '2016-01-01 18:00:00', '2016-01-01 19:00:00',\n",
       "               '2016-01-01 20:00:00', '2016-01-01 21:00:00',\n",
       "               '2016-01-01 22:00:00', '2016-01-01 23:00:00',\n",
       "               '2016-01-02 00:00:00', '2016-01-02 01:00:00',\n",
       "               '2016-01-02 02:00:00', '2016-01-02 03:00:00',\n",
       "               '2016-01-02 04:00:00', '2016-01-02 05:00:00',\n",
       "               '2016-01-02 06:00:00', '2016-01-02 07:00:00',\n",
       "               '2016-01-02 08:00:00', '2016-01-02 09:00:00',\n",
       "               '2016-01-02 10:00:00', '2016-01-02 11:00:00',\n",
       "               '2016-01-02 12:00:00', '2016-01-02 13:00:00',\n",
       "               '2016-01-02 14:00:00', '2016-01-02 15:00:00',\n",
       "               '2016-01-02 16:00:00', '2016-01-02 17:00:00',\n",
       "               '2016-01-02 18:00:00', '2016-01-02 19:00:00',\n",
       "               '2016-01-02 20:00:00', '2016-01-02 21:00:00',\n",
       "               '2016-01-02 22:00:00', '2016-01-02 23:00:00',\n",
       "               '2016-01-03 00:00:00', '2016-01-03 01:00:00',\n",
       "               '2016-01-03 02:00:00', '2016-01-03 03:00:00',\n",
       "               '2016-01-03 04:00:00', '2016-01-03 05:00:00',\n",
       "               '2016-01-03 06:00:00', '2016-01-03 07:00:00',\n",
       "               '2016-01-03 08:00:00', '2016-01-03 09:00:00',\n",
       "               '2016-01-03 10:00:00', '2016-01-03 11:00:00',\n",
       "               '2016-01-03 12:00:00', '2016-01-03 13:00:00',\n",
       "               '2016-01-03 14:00:00', '2016-01-03 15:00:00',\n",
       "               '2016-01-03 16:00:00', '2016-01-03 17:00:00',\n",
       "               '2016-01-03 18:00:00', '2016-01-03 19:00:00',\n",
       "               '2016-01-03 20:00:00', '2016-01-03 21:00:00',\n",
       "               '2016-01-03 22:00:00', '2016-01-03 23:00:00'],\n",
       "              dtype='datetime64[ns]', freq='H')"
      ]
     },
     "execution_count": 53,
     "metadata": {},
     "output_type": "execute_result"
    }
   ],
   "source": [
    "#generrating datetimeindex with period arguments\n",
    "\n",
    "rng = pd.date_range(start=\"1/1/2016\",periods= 72,freq='H')\n",
    "rng"
   ]
  },
  {
   "cell_type": "code",
   "execution_count": null,
   "id": "alternative-australian",
   "metadata": {},
   "outputs": [],
   "source": []
  },
  {
   "cell_type": "code",
   "execution_count": null,
   "id": "accomplished-password",
   "metadata": {},
   "outputs": [],
   "source": []
  }
 ],
 "metadata": {
  "kernelspec": {
   "display_name": "Python 3",
   "language": "python",
   "name": "python3"
  },
  "language_info": {
   "codemirror_mode": {
    "name": "ipython",
    "version": 3
   },
   "file_extension": ".py",
   "mimetype": "text/x-python",
   "name": "python",
   "nbconvert_exporter": "python",
   "pygments_lexer": "ipython3",
   "version": "3.8.8"
  }
 },
 "nbformat": 4,
 "nbformat_minor": 5
}
