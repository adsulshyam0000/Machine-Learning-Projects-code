{
 "cells": [
  {
   "cell_type": "code",
   "execution_count": 1,
   "id": "disabled-platform",
   "metadata": {},
   "outputs": [
    {
     "data": {
      "text/plain": [
       "[1, 2, 3, 4, 5, 6, 7, 8, 9, 10, 11, 12, 13, 14, 15, 16, 17, 18, 19, 20]"
      ]
     },
     "execution_count": 1,
     "metadata": {},
     "output_type": "execute_result"
    }
   ],
   "source": [
    "list1 = [1,2,3,4,5,6,7,8,9,10,11,12,13,14,15,16,17,18,19,20]\n",
    "\n",
    "list1"
   ]
  },
  {
   "cell_type": "code",
   "execution_count": 2,
   "id": "parental-socket",
   "metadata": {},
   "outputs": [
    {
     "name": "stdout",
     "output_type": "stream",
     "text": [
      "1\n",
      "2\n",
      "3\n",
      "4\n",
      "5\n",
      "6\n",
      "7\n",
      "8\n",
      "9\n",
      "10\n",
      "11\n",
      "12\n",
      "13\n",
      "14\n",
      "15\n",
      "16\n",
      "17\n",
      "18\n",
      "19\n",
      "20\n"
     ]
    }
   ],
   "source": [
    "def gen():\n",
    "    for i in list1:\n",
    "        yield i \n",
    "        \n",
    "gen = gen()\n",
    "\n",
    "for i in range(0,20):\n",
    "    print(next(gen))"
   ]
  },
  {
   "cell_type": "code",
   "execution_count": 3,
   "id": "interesting-terrace",
   "metadata": {},
   "outputs": [
    {
     "name": "stdout",
     "output_type": "stream",
     "text": [
      "[1.4142135623730951, 2.0, 2.449489742783178, 2.8284271247461903, 3.1622776601683795, 3.4641016151377544, 3.7416573867739413, 4.0, 4.242640687119285, 4.47213595499958]\n"
     ]
    }
   ],
   "source": [
    "import math as m\n",
    "\n",
    "number_list = [ m.sqrt(x) for x in list1 if x % 2 == 0]\n",
    "print(number_list)"
   ]
  },
  {
   "cell_type": "code",
   "execution_count": 4,
   "id": "fixed-growing",
   "metadata": {},
   "outputs": [
    {
     "data": {
      "text/plain": [
       "[1, 27, 125, 343, 729, 1331, 2197, 3375, 4913, 6859]"
      ]
     },
     "execution_count": 4,
     "metadata": {},
     "output_type": "execute_result"
    }
   ],
   "source": [
    " [x**3 for x in list1 if (x % 2 != 0)]"
   ]
  },
  {
   "cell_type": "code",
   "execution_count": 5,
   "id": "prescription-discussion",
   "metadata": {},
   "outputs": [
    {
     "data": {
      "text/plain": [
       "['shyam', 'adsul']"
      ]
     },
     "execution_count": 5,
     "metadata": {},
     "output_type": "execute_result"
    }
   ],
   "source": [
    "list1 = [1,2,3,4,5,6,7,8,9,10,11,12,13,14,15,16,17,18,19,20,'shyam','adsul']\n",
    "\n",
    "c = [x for x in list1 if type(x)==str]\n",
    "c"
   ]
  },
  {
   "cell_type": "code",
   "execution_count": 6,
   "id": "organizational-savannah",
   "metadata": {},
   "outputs": [
    {
     "name": "stdout",
     "output_type": "stream",
     "text": [
      "<class '__main__.BMW'>\n",
      "True\n",
      "True\n"
     ]
    }
   ],
   "source": [
    "class car():\n",
    "    def __init__(self,name,model,year,cost,engine,tyres,airbags):\n",
    "        self.name = name\n",
    "        self.model = model\n",
    "        self.year = year\n",
    "        self.cost = cost\n",
    "        self.engine = engine\n",
    "        self.tyres = tyres\n",
    "        self.airbags = airbags\n",
    "    \n",
    "    def __str_(self):\n",
    "        return  \"self.name,self.model,self.year,self.cost,self.engine,self.tyres,self.airbags\"\n",
    "\n",
    "class BMW(car):\n",
    "    def __init__(self,cost,*args):\n",
    "        super(BMW, self).__init__(*args)\n",
    "        self._cost = cost\n",
    "        \n",
    "a = BMW('Shyam','NEW','2021','11111','1998','RMF','NONE','yes')\n",
    "print(type (a))\n",
    "print(isinstance(a,BMW))\n",
    "print(isinstance(a,car))"
   ]
  },
  {
   "cell_type": "code",
   "execution_count": 7,
   "id": "ongoing-lesbian",
   "metadata": {},
   "outputs": [
    {
     "data": {
      "text/plain": [
       "(1, 2, 3, 4, 5, 6, 7, 8, 9, 10, 10, 20, 30, 40, 50, 60, 70, 80, 90, 100)"
      ]
     },
     "execution_count": 7,
     "metadata": {},
     "output_type": "execute_result"
    }
   ],
   "source": [
    "a = [1,2,3,4,5,6,7,8,9,10]\n",
    "b = [10,20,30,40,50,60,70,80,90,100]\n",
    "result = tuple(a)\n",
    "result1 =tuple(b)\n",
    "output = result+result1\n",
    "output"
   ]
  },
  {
   "cell_type": "code",
   "execution_count": 27,
   "id": "static-spencer",
   "metadata": {},
   "outputs": [
    {
     "name": "stdout",
     "output_type": "stream",
     "text": [
      "Skipped Odd No\n",
      "[8]\n",
      "Skipped Odd No\n",
      "[8, 64]\n",
      "Skipped Odd No\n",
      "[8, 64, 216]\n",
      "Skipped Odd No\n",
      "[8, 64, 216, 512]\n",
      "Skipped Odd No\n",
      "[8, 64, 216, 512, 1000]\n",
      "Skipped Odd No\n",
      "[8, 64, 216, 512, 1000, 1728]\n",
      "Skipped Odd No\n",
      "[8, 64, 216, 512, 1000, 1728, 2744]\n",
      "Skipped Odd No\n",
      "[8, 64, 216, 512, 1000, 1728, 2744, 4096]\n",
      "Skipped Odd No\n",
      "[8, 64, 216, 512, 1000, 1728, 2744, 4096, 5832]\n",
      "Skipped Odd No\n",
      "[8, 64, 216, 512, 1000, 1728, 2744, 4096, 5832, 8000]\n",
      "None\n"
     ]
    }
   ],
   "source": [
    "\n",
    "def cube1(a):\n",
    "    kist=[]\n",
    "    i = 0\n",
    "    for a in x:\n",
    "        if a%2 == 0:\n",
    "            kist.append(a**3)\n",
    "            print(kist)\n",
    "        else:\n",
    "            print(\"Skipped Odd No\")\n",
    "       \n",
    "    \n",
    "x  = [1, 2, 3, 4, 5, 6, 7, 8, 9, 10, 11, 12, 13, 14, 15, 16, 17, 18, 19, 20]\n",
    "print(cube1(a))\n",
    "\n",
    "\n",
    "            "
   ]
  },
  {
   "cell_type": "code",
   "execution_count": 44,
   "id": "unexpected-detail",
   "metadata": {},
   "outputs": [
    {
     "ename": "ValueError",
     "evalue": "'p' is not in list",
     "output_type": "error",
     "traceback": [
      "\u001b[1;31m---------------------------------------------------------------------------\u001b[0m",
      "\u001b[1;31mValueError\u001b[0m                                Traceback (most recent call last)",
      "\u001b[1;32m<ipython-input-44-0628fe0b9359>\u001b[0m in \u001b[0;36m<module>\u001b[1;34m\u001b[0m\n\u001b[0;32m      4\u001b[0m \u001b[0mresult\u001b[0m \u001b[1;33m=\u001b[0m \u001b[1;33m[\u001b[0m\u001b[1;33m]\u001b[0m\u001b[1;33m\u001b[0m\u001b[1;33m\u001b[0m\u001b[0m\n\u001b[0;32m      5\u001b[0m \u001b[1;32mfor\u001b[0m \u001b[0mi\u001b[0m \u001b[1;32min\u001b[0m \u001b[0mlist_b\u001b[0m\u001b[1;33m:\u001b[0m\u001b[1;33m\u001b[0m\u001b[1;33m\u001b[0m\u001b[0m\n\u001b[1;32m----> 6\u001b[1;33m     \u001b[0mresult\u001b[0m\u001b[1;33m.\u001b[0m\u001b[0mappend\u001b[0m\u001b[1;33m(\u001b[0m\u001b[1;33m(\u001b[0m\u001b[0mi\u001b[0m\u001b[1;33m,\u001b[0m \u001b[0mmylist\u001b[0m\u001b[1;33m.\u001b[0m\u001b[0mindex\u001b[0m\u001b[1;33m(\u001b[0m\u001b[0mi\u001b[0m\u001b[1;33m)\u001b[0m\u001b[1;33m)\u001b[0m\u001b[1;33m)\u001b[0m\u001b[1;33m\u001b[0m\u001b[1;33m\u001b[0m\u001b[0m\n\u001b[0m\u001b[0;32m      7\u001b[0m \u001b[1;33m\u001b[0m\u001b[0m\n\u001b[0;32m      8\u001b[0m \u001b[0mprint\u001b[0m\u001b[1;33m(\u001b[0m\u001b[0mresult\u001b[0m\u001b[1;33m)\u001b[0m\u001b[1;33m\u001b[0m\u001b[1;33m\u001b[0m\u001b[0m\n",
      "\u001b[1;31mValueError\u001b[0m: 'p' is not in list"
     ]
    }
   ],
   "source": [
    "mylist = ['a','b','c','d']\n",
    "list_b = ['p','f','g','h']\n",
    "\n",
    "result = []\n",
    "for i in list_b:\n",
    "    result.append((i, mylist.index(i)))\n",
    "\n",
    "print(result)"
   ]
  },
  {
   "cell_type": "code",
   "execution_count": null,
   "id": "furnished-murray",
   "metadata": {},
   "outputs": [],
   "source": []
  }
 ],
 "metadata": {
  "kernelspec": {
   "display_name": "Python 3",
   "language": "python",
   "name": "python3"
  },
  "language_info": {
   "codemirror_mode": {
    "name": "ipython",
    "version": 3
   },
   "file_extension": ".py",
   "mimetype": "text/x-python",
   "name": "python",
   "nbconvert_exporter": "python",
   "pygments_lexer": "ipython3",
   "version": "3.8.5"
  }
 },
 "nbformat": 4,
 "nbformat_minor": 5
}
