{
 "cells": [
  {
   "cell_type": "markdown",
   "metadata": {},
   "source": [
    "Client's requirement---To find out the House Price based on features given in the dataset.\n",
    "\n",
    "1. Understand, Visualize data and perform logical imputations for Data Preprocessing.\n",
    "2. Make ML Model with all the hyperparmeter tuning and submit the best evaluated model based on techniques covered in class.\n",
    "3. Write comments on every step on WHY you have opted for that strategy."
   ]
  },
  {
   "cell_type": "code",
   "execution_count": 1,
   "metadata": {},
   "outputs": [],
   "source": [
    "import pandas as pd\n",
    "import seaborn as sns\n",
    "import numpy as np\n",
    "import os\n",
    "import matplotlib.pyplot as plt\n",
    "from sklearn.linear_model import LinearRegression\n",
    "\n",
    "from sklearn.model_selection import train_test_split\n",
    "\n",
    "import pickle\n",
    "%matplotlib inline\n",
    "os.chdir(r'C:\\Users\\Shyam Adsul\\Python codes SSPU\\Data sets')\n"
   ]
  },
  {
   "cell_type": "code",
   "execution_count": 2,
   "metadata": {},
   "outputs": [],
   "source": [
    "df = pd.read_csv('House Price.csv')"
   ]
  },
  {
   "cell_type": "code",
   "execution_count": 3,
   "metadata": {},
   "outputs": [
    {
     "data": {
      "text/html": [
       "<div>\n",
       "<style scoped>\n",
       "    .dataframe tbody tr th:only-of-type {\n",
       "        vertical-align: middle;\n",
       "    }\n",
       "\n",
       "    .dataframe tbody tr th {\n",
       "        vertical-align: top;\n",
       "    }\n",
       "\n",
       "    .dataframe thead th {\n",
       "        text-align: right;\n",
       "    }\n",
       "</style>\n",
       "<table border=\"1\" class=\"dataframe\">\n",
       "  <thead>\n",
       "    <tr style=\"text-align: right;\">\n",
       "      <th></th>\n",
       "      <th>Id</th>\n",
       "      <th>LotFrontage</th>\n",
       "      <th>LotArea</th>\n",
       "      <th>Alley</th>\n",
       "      <th>MasVnrArea</th>\n",
       "      <th>1stFlrSF</th>\n",
       "      <th>2ndFlrSF</th>\n",
       "      <th>GrLivArea</th>\n",
       "      <th>GarageType</th>\n",
       "      <th>GarageArea</th>\n",
       "      <th>SalePrice</th>\n",
       "    </tr>\n",
       "  </thead>\n",
       "  <tbody>\n",
       "    <tr>\n",
       "      <th>0</th>\n",
       "      <td>1</td>\n",
       "      <td>65.0</td>\n",
       "      <td>8450</td>\n",
       "      <td>Grvl</td>\n",
       "      <td>196.0</td>\n",
       "      <td>856</td>\n",
       "      <td>854</td>\n",
       "      <td>1710</td>\n",
       "      <td>Attchd</td>\n",
       "      <td>548</td>\n",
       "      <td>208500</td>\n",
       "    </tr>\n",
       "    <tr>\n",
       "      <th>1</th>\n",
       "      <td>2</td>\n",
       "      <td>80.0</td>\n",
       "      <td>9600</td>\n",
       "      <td>Grvl</td>\n",
       "      <td>0.0</td>\n",
       "      <td>1262</td>\n",
       "      <td>0</td>\n",
       "      <td>1262</td>\n",
       "      <td>Attchd</td>\n",
       "      <td>460</td>\n",
       "      <td>181500</td>\n",
       "    </tr>\n",
       "    <tr>\n",
       "      <th>2</th>\n",
       "      <td>3</td>\n",
       "      <td>68.0</td>\n",
       "      <td>11250</td>\n",
       "      <td>Grvl</td>\n",
       "      <td>162.0</td>\n",
       "      <td>920</td>\n",
       "      <td>866</td>\n",
       "      <td>1786</td>\n",
       "      <td>Attchd</td>\n",
       "      <td>608</td>\n",
       "      <td>223500</td>\n",
       "    </tr>\n",
       "    <tr>\n",
       "      <th>3</th>\n",
       "      <td>4</td>\n",
       "      <td>60.0</td>\n",
       "      <td>9550</td>\n",
       "      <td>Grvl</td>\n",
       "      <td>0.0</td>\n",
       "      <td>961</td>\n",
       "      <td>756</td>\n",
       "      <td>1717</td>\n",
       "      <td>Detchd</td>\n",
       "      <td>642</td>\n",
       "      <td>140000</td>\n",
       "    </tr>\n",
       "    <tr>\n",
       "      <th>4</th>\n",
       "      <td>5</td>\n",
       "      <td>84.0</td>\n",
       "      <td>14260</td>\n",
       "      <td>Grvl</td>\n",
       "      <td>350.0</td>\n",
       "      <td>1145</td>\n",
       "      <td>1053</td>\n",
       "      <td>2198</td>\n",
       "      <td>Attchd</td>\n",
       "      <td>836</td>\n",
       "      <td>250000</td>\n",
       "    </tr>\n",
       "    <tr>\n",
       "      <th>...</th>\n",
       "      <td>...</td>\n",
       "      <td>...</td>\n",
       "      <td>...</td>\n",
       "      <td>...</td>\n",
       "      <td>...</td>\n",
       "      <td>...</td>\n",
       "      <td>...</td>\n",
       "      <td>...</td>\n",
       "      <td>...</td>\n",
       "      <td>...</td>\n",
       "      <td>...</td>\n",
       "    </tr>\n",
       "    <tr>\n",
       "      <th>1455</th>\n",
       "      <td>1456</td>\n",
       "      <td>62.0</td>\n",
       "      <td>7917</td>\n",
       "      <td>Grvl</td>\n",
       "      <td>0.0</td>\n",
       "      <td>953</td>\n",
       "      <td>694</td>\n",
       "      <td>1647</td>\n",
       "      <td>Attchd</td>\n",
       "      <td>460</td>\n",
       "      <td>175000</td>\n",
       "    </tr>\n",
       "    <tr>\n",
       "      <th>1456</th>\n",
       "      <td>1457</td>\n",
       "      <td>85.0</td>\n",
       "      <td>13175</td>\n",
       "      <td>Grvl</td>\n",
       "      <td>119.0</td>\n",
       "      <td>2073</td>\n",
       "      <td>0</td>\n",
       "      <td>2073</td>\n",
       "      <td>Attchd</td>\n",
       "      <td>500</td>\n",
       "      <td>210000</td>\n",
       "    </tr>\n",
       "    <tr>\n",
       "      <th>1457</th>\n",
       "      <td>1458</td>\n",
       "      <td>66.0</td>\n",
       "      <td>9042</td>\n",
       "      <td>Grvl</td>\n",
       "      <td>0.0</td>\n",
       "      <td>1188</td>\n",
       "      <td>1152</td>\n",
       "      <td>2340</td>\n",
       "      <td>Attchd</td>\n",
       "      <td>252</td>\n",
       "      <td>266500</td>\n",
       "    </tr>\n",
       "    <tr>\n",
       "      <th>1458</th>\n",
       "      <td>1459</td>\n",
       "      <td>68.0</td>\n",
       "      <td>9717</td>\n",
       "      <td>Grvl</td>\n",
       "      <td>0.0</td>\n",
       "      <td>1078</td>\n",
       "      <td>0</td>\n",
       "      <td>1078</td>\n",
       "      <td>Attchd</td>\n",
       "      <td>240</td>\n",
       "      <td>142125</td>\n",
       "    </tr>\n",
       "    <tr>\n",
       "      <th>1459</th>\n",
       "      <td>1460</td>\n",
       "      <td>75.0</td>\n",
       "      <td>9937</td>\n",
       "      <td>Grvl</td>\n",
       "      <td>0.0</td>\n",
       "      <td>1256</td>\n",
       "      <td>0</td>\n",
       "      <td>1256</td>\n",
       "      <td>Attchd</td>\n",
       "      <td>276</td>\n",
       "      <td>147500</td>\n",
       "    </tr>\n",
       "  </tbody>\n",
       "</table>\n",
       "<p>1460 rows × 11 columns</p>\n",
       "</div>"
      ],
      "text/plain": [
       "        Id  LotFrontage  LotArea Alley  MasVnrArea  1stFlrSF  2ndFlrSF  \\\n",
       "0        1         65.0     8450  Grvl       196.0       856       854   \n",
       "1        2         80.0     9600  Grvl         0.0      1262         0   \n",
       "2        3         68.0    11250  Grvl       162.0       920       866   \n",
       "3        4         60.0     9550  Grvl         0.0       961       756   \n",
       "4        5         84.0    14260  Grvl       350.0      1145      1053   \n",
       "...    ...          ...      ...   ...         ...       ...       ...   \n",
       "1455  1456         62.0     7917  Grvl         0.0       953       694   \n",
       "1456  1457         85.0    13175  Grvl       119.0      2073         0   \n",
       "1457  1458         66.0     9042  Grvl         0.0      1188      1152   \n",
       "1458  1459         68.0     9717  Grvl         0.0      1078         0   \n",
       "1459  1460         75.0     9937  Grvl         0.0      1256         0   \n",
       "\n",
       "      GrLivArea GarageType  GarageArea  SalePrice  \n",
       "0          1710     Attchd         548     208500  \n",
       "1          1262     Attchd         460     181500  \n",
       "2          1786     Attchd         608     223500  \n",
       "3          1717     Detchd         642     140000  \n",
       "4          2198     Attchd         836     250000  \n",
       "...         ...        ...         ...        ...  \n",
       "1455       1647     Attchd         460     175000  \n",
       "1456       2073     Attchd         500     210000  \n",
       "1457       2340     Attchd         252     266500  \n",
       "1458       1078     Attchd         240     142125  \n",
       "1459       1256     Attchd         276     147500  \n",
       "\n",
       "[1460 rows x 11 columns]"
      ]
     },
     "execution_count": 3,
     "metadata": {},
     "output_type": "execute_result"
    }
   ],
   "source": [
    "df['Alley'] = df['Alley'].replace(np.nan,df['Alley'].mode().iloc[0])\n",
    "df"
   ]
  },
  {
   "cell_type": "code",
   "execution_count": 4,
   "metadata": {},
   "outputs": [
    {
     "data": {
      "text/html": [
       "<div>\n",
       "<style scoped>\n",
       "    .dataframe tbody tr th:only-of-type {\n",
       "        vertical-align: middle;\n",
       "    }\n",
       "\n",
       "    .dataframe tbody tr th {\n",
       "        vertical-align: top;\n",
       "    }\n",
       "\n",
       "    .dataframe thead th {\n",
       "        text-align: right;\n",
       "    }\n",
       "</style>\n",
       "<table border=\"1\" class=\"dataframe\">\n",
       "  <thead>\n",
       "    <tr style=\"text-align: right;\">\n",
       "      <th></th>\n",
       "      <th>LotFrontage</th>\n",
       "      <th>LotArea</th>\n",
       "      <th>Alley</th>\n",
       "      <th>MasVnrArea</th>\n",
       "      <th>1stFlrSF</th>\n",
       "      <th>2ndFlrSF</th>\n",
       "      <th>GrLivArea</th>\n",
       "      <th>GarageType</th>\n",
       "      <th>GarageArea</th>\n",
       "      <th>SalePrice</th>\n",
       "    </tr>\n",
       "  </thead>\n",
       "  <tbody>\n",
       "    <tr>\n",
       "      <th>0</th>\n",
       "      <td>65.0</td>\n",
       "      <td>8450</td>\n",
       "      <td>Grvl</td>\n",
       "      <td>196.0</td>\n",
       "      <td>856</td>\n",
       "      <td>854</td>\n",
       "      <td>1710</td>\n",
       "      <td>Attchd</td>\n",
       "      <td>548</td>\n",
       "      <td>208500</td>\n",
       "    </tr>\n",
       "    <tr>\n",
       "      <th>1</th>\n",
       "      <td>80.0</td>\n",
       "      <td>9600</td>\n",
       "      <td>Grvl</td>\n",
       "      <td>0.0</td>\n",
       "      <td>1262</td>\n",
       "      <td>0</td>\n",
       "      <td>1262</td>\n",
       "      <td>Attchd</td>\n",
       "      <td>460</td>\n",
       "      <td>181500</td>\n",
       "    </tr>\n",
       "    <tr>\n",
       "      <th>2</th>\n",
       "      <td>68.0</td>\n",
       "      <td>11250</td>\n",
       "      <td>Grvl</td>\n",
       "      <td>162.0</td>\n",
       "      <td>920</td>\n",
       "      <td>866</td>\n",
       "      <td>1786</td>\n",
       "      <td>Attchd</td>\n",
       "      <td>608</td>\n",
       "      <td>223500</td>\n",
       "    </tr>\n",
       "    <tr>\n",
       "      <th>3</th>\n",
       "      <td>60.0</td>\n",
       "      <td>9550</td>\n",
       "      <td>Grvl</td>\n",
       "      <td>0.0</td>\n",
       "      <td>961</td>\n",
       "      <td>756</td>\n",
       "      <td>1717</td>\n",
       "      <td>Detchd</td>\n",
       "      <td>642</td>\n",
       "      <td>140000</td>\n",
       "    </tr>\n",
       "    <tr>\n",
       "      <th>4</th>\n",
       "      <td>84.0</td>\n",
       "      <td>14260</td>\n",
       "      <td>Grvl</td>\n",
       "      <td>350.0</td>\n",
       "      <td>1145</td>\n",
       "      <td>1053</td>\n",
       "      <td>2198</td>\n",
       "      <td>Attchd</td>\n",
       "      <td>836</td>\n",
       "      <td>250000</td>\n",
       "    </tr>\n",
       "    <tr>\n",
       "      <th>...</th>\n",
       "      <td>...</td>\n",
       "      <td>...</td>\n",
       "      <td>...</td>\n",
       "      <td>...</td>\n",
       "      <td>...</td>\n",
       "      <td>...</td>\n",
       "      <td>...</td>\n",
       "      <td>...</td>\n",
       "      <td>...</td>\n",
       "      <td>...</td>\n",
       "    </tr>\n",
       "    <tr>\n",
       "      <th>1455</th>\n",
       "      <td>62.0</td>\n",
       "      <td>7917</td>\n",
       "      <td>Grvl</td>\n",
       "      <td>0.0</td>\n",
       "      <td>953</td>\n",
       "      <td>694</td>\n",
       "      <td>1647</td>\n",
       "      <td>Attchd</td>\n",
       "      <td>460</td>\n",
       "      <td>175000</td>\n",
       "    </tr>\n",
       "    <tr>\n",
       "      <th>1456</th>\n",
       "      <td>85.0</td>\n",
       "      <td>13175</td>\n",
       "      <td>Grvl</td>\n",
       "      <td>119.0</td>\n",
       "      <td>2073</td>\n",
       "      <td>0</td>\n",
       "      <td>2073</td>\n",
       "      <td>Attchd</td>\n",
       "      <td>500</td>\n",
       "      <td>210000</td>\n",
       "    </tr>\n",
       "    <tr>\n",
       "      <th>1457</th>\n",
       "      <td>66.0</td>\n",
       "      <td>9042</td>\n",
       "      <td>Grvl</td>\n",
       "      <td>0.0</td>\n",
       "      <td>1188</td>\n",
       "      <td>1152</td>\n",
       "      <td>2340</td>\n",
       "      <td>Attchd</td>\n",
       "      <td>252</td>\n",
       "      <td>266500</td>\n",
       "    </tr>\n",
       "    <tr>\n",
       "      <th>1458</th>\n",
       "      <td>68.0</td>\n",
       "      <td>9717</td>\n",
       "      <td>Grvl</td>\n",
       "      <td>0.0</td>\n",
       "      <td>1078</td>\n",
       "      <td>0</td>\n",
       "      <td>1078</td>\n",
       "      <td>Attchd</td>\n",
       "      <td>240</td>\n",
       "      <td>142125</td>\n",
       "    </tr>\n",
       "    <tr>\n",
       "      <th>1459</th>\n",
       "      <td>75.0</td>\n",
       "      <td>9937</td>\n",
       "      <td>Grvl</td>\n",
       "      <td>0.0</td>\n",
       "      <td>1256</td>\n",
       "      <td>0</td>\n",
       "      <td>1256</td>\n",
       "      <td>Attchd</td>\n",
       "      <td>276</td>\n",
       "      <td>147500</td>\n",
       "    </tr>\n",
       "  </tbody>\n",
       "</table>\n",
       "<p>1460 rows × 10 columns</p>\n",
       "</div>"
      ],
      "text/plain": [
       "      LotFrontage  LotArea Alley  MasVnrArea  1stFlrSF  2ndFlrSF  GrLivArea  \\\n",
       "0            65.0     8450  Grvl       196.0       856       854       1710   \n",
       "1            80.0     9600  Grvl         0.0      1262         0       1262   \n",
       "2            68.0    11250  Grvl       162.0       920       866       1786   \n",
       "3            60.0     9550  Grvl         0.0       961       756       1717   \n",
       "4            84.0    14260  Grvl       350.0      1145      1053       2198   \n",
       "...           ...      ...   ...         ...       ...       ...        ...   \n",
       "1455         62.0     7917  Grvl         0.0       953       694       1647   \n",
       "1456         85.0    13175  Grvl       119.0      2073         0       2073   \n",
       "1457         66.0     9042  Grvl         0.0      1188      1152       2340   \n",
       "1458         68.0     9717  Grvl         0.0      1078         0       1078   \n",
       "1459         75.0     9937  Grvl         0.0      1256         0       1256   \n",
       "\n",
       "     GarageType  GarageArea  SalePrice  \n",
       "0        Attchd         548     208500  \n",
       "1        Attchd         460     181500  \n",
       "2        Attchd         608     223500  \n",
       "3        Detchd         642     140000  \n",
       "4        Attchd         836     250000  \n",
       "...         ...         ...        ...  \n",
       "1455     Attchd         460     175000  \n",
       "1456     Attchd         500     210000  \n",
       "1457     Attchd         252     266500  \n",
       "1458     Attchd         240     142125  \n",
       "1459     Attchd         276     147500  \n",
       "\n",
       "[1460 rows x 10 columns]"
      ]
     },
     "execution_count": 4,
     "metadata": {},
     "output_type": "execute_result"
    }
   ],
   "source": [
    "df1 = df.drop('Id', axis = 1)\n",
    "df1"
   ]
  },
  {
   "cell_type": "code",
   "execution_count": 5,
   "metadata": {},
   "outputs": [
    {
     "data": {
      "text/plain": [
       "array(['Grvl', 'Pave'], dtype=object)"
      ]
     },
     "execution_count": 5,
     "metadata": {},
     "output_type": "execute_result"
    }
   ],
   "source": [
    "\n",
    "df1['Alley'].unique()\n"
   ]
  },
  {
   "cell_type": "code",
   "execution_count": 6,
   "metadata": {},
   "outputs": [],
   "source": [
    "df1['GarageType'] = df1['GarageType'].replace(np.nan,df1['GarageType'].mode().iloc[0])\n",
    "\n",
    "df1['Alley'] = df1['Alley'].replace({'Grvl':1,\"Pave\":2})\n",
    "\n",
    "#['Grvl' === 1, 'Pave'===2]\n"
   ]
  },
  {
   "cell_type": "code",
   "execution_count": 7,
   "metadata": {},
   "outputs": [
    {
     "data": {
      "text/plain": [
       "array(['Attchd', 'Detchd', 'BuiltIn', 'CarPort', 'Basment', '2Types'],\n",
       "      dtype=object)"
      ]
     },
     "execution_count": 7,
     "metadata": {},
     "output_type": "execute_result"
    }
   ],
   "source": [
    "\n",
    "df1['GarageType'].unique()\n"
   ]
  },
  {
   "cell_type": "code",
   "execution_count": 8,
   "metadata": {},
   "outputs": [],
   "source": [
    "df1['GarageType'] = df1['GarageType'].replace({'Attchd':1,\"Detchd\":2,'BuiltIn':3,'CarPort':4,'Basment':5,'2Types':6})\n"
   ]
  },
  {
   "cell_type": "code",
   "execution_count": 9,
   "metadata": {},
   "outputs": [
    {
     "data": {
      "text/plain": [
       "LotFrontage    259\n",
       "LotArea          0\n",
       "Alley            0\n",
       "MasVnrArea     869\n",
       "1stFlrSF         0\n",
       "2ndFlrSF       829\n",
       "GrLivArea        0\n",
       "GarageType       0\n",
       "GarageArea       0\n",
       "SalePrice        0\n",
       "dtype: int64"
      ]
     },
     "execution_count": 9,
     "metadata": {},
     "output_type": "execute_result"
    }
   ],
   "source": [
    "df1['MasVnrArea'] = df1['MasVnrArea'].replace(0,np.nan)\n",
    "df1['2ndFlrSF'] = df1['2ndFlrSF'].replace(0,np.nan)\n",
    "\n",
    "df1.isnull().sum()\n"
   ]
  },
  {
   "cell_type": "code",
   "execution_count": 10,
   "metadata": {},
   "outputs": [
    {
     "data": {
      "text/plain": [
       "LotFrontage    0\n",
       "LotArea        0\n",
       "Alley          0\n",
       "MasVnrArea     0\n",
       "1stFlrSF       0\n",
       "2ndFlrSF       0\n",
       "GrLivArea      0\n",
       "GarageType     0\n",
       "GarageArea     0\n",
       "SalePrice      0\n",
       "dtype: int64"
      ]
     },
     "execution_count": 10,
     "metadata": {},
     "output_type": "execute_result"
    }
   ],
   "source": [
    "df1['LotFrontage'] = df1['LotFrontage'].replace(np.nan,df1['LotFrontage'].mean())\n",
    "df1['MasVnrArea'] = df1['MasVnrArea'].replace(np.nan,df1['MasVnrArea'].mean())\n",
    "df1['2ndFlrSF'] = df1['2ndFlrSF'].replace(np.nan,df1['2ndFlrSF'].mean())\n",
    "df1.isnull().sum()"
   ]
  },
  {
   "cell_type": "code",
   "execution_count": 11,
   "metadata": {},
   "outputs": [
    {
     "data": {
      "text/plain": [
       "<AxesSubplot:>"
      ]
     },
     "execution_count": 11,
     "metadata": {},
     "output_type": "execute_result"
    },
    {
     "data": {
      "image/png": "[encoded data removed]",
      "text/plain": [
       "<Figure size 1440x1440 with 1 Axes>"
      ]
     },
     "metadata": {
      "needs_background": "light"
     },
     "output_type": "display_data"
    }
   ],
   "source": [
    "\n",
    "\n",
    "fig, ax = plt.subplots(figsize=(20,20))\n",
    "sns.boxplot(data=df1, width= 0.5,ax=ax,  fliersize=3)\n"
   ]
  },
  {
   "cell_type": "markdown",
   "metadata": {},
   "source": [
    "# Saleprice outlier treatment"
   ]
  },
  {
   "cell_type": "code",
   "execution_count": 12,
   "metadata": {},
   "outputs": [
    {
     "name": "stdout",
     "output_type": "stream",
     "text": [
      "3937.5\n",
      "340037.5\n"
     ]
    },
    {
     "data": {
      "text/plain": [
       "<seaborn.axisgrid.FacetGrid at 0x1b993c59280>"
      ]
     },
     "execution_count": 12,
     "metadata": {},
     "output_type": "execute_result"
    },
    {
     "data": {
      "image/png": "[encoded data removed]",
      "text/plain": [
       "<Figure size 432x288 with 1 Axes>"
      ]
     },
     "metadata": {
      "needs_background": "light"
     },
     "output_type": "display_data"
    },
    {
     "data": {
      "image/png": "[encoded data removed]",
      "text/plain": [
       "<Figure size 360x360 with 1 Axes>"
      ]
     },
     "metadata": {
      "needs_background": "light"
     },
     "output_type": "display_data"
    }
   ],
   "source": [
    "IQR=df1.SalePrice.quantile(0.75)-df1.SalePrice.quantile(0.25)\n",
    "lower_limit=df1['SalePrice'].quantile(0.25)-(IQR*1.5)\n",
    "upper_limit=df1['SalePrice'].quantile(0.75)+(IQR*1.5)\n",
    "print(lower_limit), print(upper_limit)\n",
    "\n",
    "\n",
    "data1 = df1.copy()\n",
    "\n",
    "data1.loc[data1['SalePrice']>=340037.5,'SalePrice']=340037.5\n",
    "\n",
    "data1.loc[data1['SalePrice']<=3937.5,'SalePrice']=3937.5\n",
    "\n",
    "\n",
    "figure=data1.boxplot(column=\"SalePrice\")\n",
    "sns.displot(data=data1,x = 'SalePrice',kde = True)\n",
    "\n"
   ]
  },
  {
   "cell_type": "code",
   "execution_count": null,
   "metadata": {},
   "outputs": [],
   "source": []
  },
  {
   "cell_type": "markdown",
   "metadata": {},
   "source": [
    "#        # Outlier treating GarageArea"
   ]
  },
  {
   "cell_type": "code",
   "execution_count": 13,
   "metadata": {},
   "outputs": [
    {
     "name": "stdout",
     "output_type": "stream",
     "text": [
      "3937.5 \t 340037.5\n"
     ]
    },
    {
     "data": {
      "text/plain": [
       "<seaborn.axisgrid.FacetGrid at 0x1b992a3e9a0>"
      ]
     },
     "execution_count": 13,
     "metadata": {},
     "output_type": "execute_result"
    },
    {
     "data": {
      "image/png": "[encoded data removed]",
      "text/plain": [
       "<Figure size 432x288 with 1 Axes>"
      ]
     },
     "metadata": {
      "needs_background": "light"
     },
     "output_type": "display_data"
    },
    {
     "data": {
      "image/png": "[encoded data removed]",
      "text/plain": [
       "<Figure size 360x360 with 1 Axes>"
      ]
     },
     "metadata": {
      "needs_background": "light"
     },
     "output_type": "display_data"
    }
   ],
   "source": [
    "IQR1=df1.GarageArea.quantile(0.75)-df1.GarageArea.quantile(0.25)\n",
    "\n",
    "lower_limit1=df1['GarageArea'].quantile(0.25)-(IQR1*1.5)\n",
    "upper_limit1=df1['GarageArea'].quantile(0.75)+(IQR1*1.5)\n",
    "print(lower_limit, \"\\t\",upper_limit)\n",
    "\n",
    "data2 = data1.copy()\n",
    "\n",
    "data2.loc[data2['GarageArea']>=938.25,'GarageArea']=938.25\n",
    "\n",
    "data2.loc[data2['GarageArea']<=-27.75 ,'GarageArea']=-27.75 \n",
    "figure=data2.boxplot(column=\"GarageArea\")\n",
    "sns.displot(data=data2,x = 'GarageArea',kde = True)"
   ]
  },
  {
   "cell_type": "markdown",
   "metadata": {},
   "source": [
    "# GrLivArea\t outlier treating"
   ]
  },
  {
   "cell_type": "code",
   "execution_count": 14,
   "metadata": {},
   "outputs": [
    {
     "name": "stdout",
     "output_type": "stream",
     "text": [
      "158.625 \t 2747.625\n"
     ]
    },
    {
     "data": {
      "text/plain": [
       "<seaborn.axisgrid.FacetGrid at 0x1b992c3ad90>"
      ]
     },
     "execution_count": 14,
     "metadata": {},
     "output_type": "execute_result"
    },
    {
     "data": {
      "image/png": "[encoded data removed]",
      "text/plain": [
       "<Figure size 432x288 with 1 Axes>"
      ]
     },
     "metadata": {
      "needs_background": "light"
     },
     "output_type": "display_data"
    },
    {
     "data": {
      "image/png": "[encoded data removed]",
      "text/plain": [
       "<Figure size 360x360 with 1 Axes>"
      ]
     },
     "metadata": {
      "needs_background": "light"
     },
     "output_type": "display_data"
    }
   ],
   "source": [
    "IQR2=df1.GrLivArea.quantile(0.75)-df1.GrLivArea.quantile(0.25)\n",
    "lower_limit2=df1['GrLivArea'].quantile(0.25)-(IQR2*1.5)\n",
    "upper_limit2=df1['GrLivArea'].quantile(0.75)+(IQR2*1.5)\n",
    "print(lower_limit2, \"\\t\",upper_limit2)\n",
    "data3 = data2.copy()\n",
    "data3.loc[data3['GrLivArea']>=2747.625,'GrLivArea']=2747.625\n",
    "data3.loc[data3['GrLivArea']<=158.625 ,'GrLivArea']=158.625 \n",
    "figure=data3.boxplot(column=\"GrLivArea\")\n",
    "sns.displot(data=data3,x = 'GrLivArea',kde = True)"
   ]
  },
  {
   "cell_type": "markdown",
   "metadata": {},
   "source": [
    "# 2ndFlrSF outlier treating"
   ]
  },
  {
   "cell_type": "code",
   "execution_count": 15,
   "metadata": {},
   "outputs": [
    {
     "name": "stdout",
     "output_type": "stream",
     "text": [
      "158.625 \t 2747.625\n"
     ]
    },
    {
     "data": {
      "text/plain": [
       "<seaborn.axisgrid.FacetGrid at 0x1b992b36490>"
      ]
     },
     "execution_count": 15,
     "metadata": {},
     "output_type": "execute_result"
    },
    {
     "data": {
      "image/png": "[encoded data removed]",
      "text/plain": [
       "<Figure size 432x288 with 1 Axes>"
      ]
     },
     "metadata": {
      "needs_background": "light"
     },
     "output_type": "display_data"
    },
    {
     "data": {
      "image/png": "[encoded data removed]",
      "text/plain": [
       "<Figure size 360x360 with 1 Axes>"
      ]
     },
     "metadata": {
      "needs_background": "light"
     },
     "output_type": "display_data"
    }
   ],
   "source": [
    "IQR3=df1['2ndFlrSF'].quantile(0.75)-df1['2ndFlrSF'].quantile(0.25)\n",
    "\n",
    "lower_limit3=df1['2ndFlrSF'].quantile(0.25)-(IQR3*1.5)\n",
    "upper_limit3=df1['2ndFlrSF'].quantile(0.75)+(IQR3*1.5)\n",
    "print(lower_limit2, \"\\t\",upper_limit2)\n",
    "data4 = data3.copy()\n",
    "data4.loc[data4['GrLivArea']>=1820,'GrLivArea']=1820\n",
    "data4.loc[data4['GrLivArea']<=-1092.0  ,'GrLivArea']=-1092.0 \n",
    "figure=data4.boxplot(column=\"GrLivArea\")\n",
    "sns.displot(data=data4,x = 'GrLivArea',kde = True)"
   ]
  },
  {
   "cell_type": "markdown",
   "metadata": {},
   "source": [
    "# 1stFlrSF outlier treating"
   ]
  },
  {
   "cell_type": "code",
   "execution_count": 16,
   "metadata": {},
   "outputs": [
    {
     "name": "stdout",
     "output_type": "stream",
     "text": [
      "118.125 \t 2155.125\n"
     ]
    },
    {
     "data": {
      "text/plain": [
       "<seaborn.axisgrid.FacetGrid at 0x1b992d7c670>"
      ]
     },
     "execution_count": 16,
     "metadata": {},
     "output_type": "execute_result"
    },
    {
     "data": {
      "image/png": "[encoded data removed]",
      "text/plain": [
       "<Figure size 432x288 with 1 Axes>"
      ]
     },
     "metadata": {
      "needs_background": "light"
     },
     "output_type": "display_data"
    },
    {
     "data": {
      "image/png": "[encoded data removed]",
      "text/plain": [
       "<Figure size 360x360 with 1 Axes>"
      ]
     },
     "metadata": {
      "needs_background": "light"
     },
     "output_type": "display_data"
    }
   ],
   "source": [
    "IQR4=df1['1stFlrSF'].quantile(0.75)-df1['1stFlrSF'].quantile(0.25)\n",
    "\n",
    "lower_limit4=df1['1stFlrSF'].quantile(0.25)-(IQR4*1.5)\n",
    "upper_limit4=df1['1stFlrSF'].quantile(0.75)+(IQR4*1.5)\n",
    "print(lower_limit4, \"\\t\",upper_limit4)\n",
    "data5 = data4.copy()\n",
    "data5.loc[data5['1stFlrSF']>=2155.125,'1stFlrSF']=2155.125\n",
    "data5.loc[data5['1stFlrSF']<=118.125  ,'1stFlrSF']=118.125 \n",
    "figure=data5.boxplot(column=\"1stFlrSF\")\n",
    "sns.displot(data=data5,x = '1stFlrSF',kde = True)"
   ]
  },
  {
   "cell_type": "markdown",
   "metadata": {},
   "source": [
    "#    # MasVnrArea treating outlier"
   ]
  },
  {
   "cell_type": "code",
   "execution_count": 17,
   "metadata": {},
   "outputs": [
    {
     "name": "stdout",
     "output_type": "stream",
     "text": [
      "254.7394247038917 \t 254.7394247038917\n"
     ]
    },
    {
     "data": {
      "text/plain": [
       "<seaborn.axisgrid.FacetGrid at 0x1b992eb94f0>"
      ]
     },
     "execution_count": 17,
     "metadata": {},
     "output_type": "execute_result"
    },
    {
     "data": {
      "image/png": "[encoded data removed]",
      "text/plain": [
       "<Figure size 432x288 with 1 Axes>"
      ]
     },
     "metadata": {
      "needs_background": "light"
     },
     "output_type": "display_data"
    },
    {
     "data": {
      "image/png": "[encoded data removed]",
      "text/plain": [
       "<Figure size 360x360 with 1 Axes>"
      ]
     },
     "metadata": {
      "needs_background": "light"
     },
     "output_type": "display_data"
    }
   ],
   "source": [
    "IQR5=df1['MasVnrArea'].quantile(0.75)-df1['MasVnrArea'].quantile(0.25)\n",
    "\n",
    "lower_limit5=df1['MasVnrArea'].quantile(0.25)-(IQR5*1.5)\n",
    "upper_limit5=df1['MasVnrArea'].quantile(0.75)+(IQR5*1.5)\n",
    "print(lower_limit5, \"\\t\",upper_limit5)\n",
    "data6 = data5.copy()\n",
    "data6.loc[data6['MasVnrArea']>=410.625,'MasVnrArea']=410.625\n",
    "data6.loc[data6['MasVnrArea']<=-246.375 ,'MasVnrArea']=-246.375 \n",
    "figure=data6.boxplot(column=\"MasVnrArea\")\n",
    "sns.displot(data=data6,x = 'MasVnrArea',kde = True)"
   ]
  },
  {
   "cell_type": "markdown",
   "metadata": {},
   "source": [
    "#     LotArea treating outliers"
   ]
  },
  {
   "cell_type": "code",
   "execution_count": 18,
   "metadata": {},
   "outputs": [
    {
     "name": "stdout",
     "output_type": "stream",
     "text": [
      "1481.5 \t 17673.5\n"
     ]
    },
    {
     "data": {
      "text/plain": [
       "<seaborn.axisgrid.FacetGrid at 0x1b992f14400>"
      ]
     },
     "execution_count": 18,
     "metadata": {},
     "output_type": "execute_result"
    },
    {
     "data": {
      "image/png": "[encoded data removed]",
      "text/plain": [
       "<Figure size 432x288 with 1 Axes>"
      ]
     },
     "metadata": {
      "needs_background": "light"
     },
     "output_type": "display_data"
    },
    {
     "data": {
      "image/png": "[encoded data removed]",
      "text/plain": [
       "<Figure size 360x360 with 1 Axes>"
      ]
     },
     "metadata": {
      "needs_background": "light"
     },
     "output_type": "display_data"
    }
   ],
   "source": [
    "IQR6=df1.LotArea.quantile(0.75)-df1.LotArea.quantile(0.25)\n",
    "\n",
    "lower_limit6=df1['LotArea'].quantile(0.25)-(IQR6*1.5)\n",
    "upper_limit6=df1['LotArea'].quantile(0.75)+(IQR6*1.5)\n",
    "print(lower_limit6, \"\\t\",upper_limit6)\n",
    "data7 = data6.copy()\n",
    "data7.loc[data7['LotArea']>=17673.5,'LotArea']=17673.5\n",
    "data7.loc[data7['LotArea']<=1481.5 ,'LotArea']=1481.5 \n",
    "figure=data7.boxplot(column=\"LotArea\")\n",
    "sns.displot(data=data7,x = 'LotArea',kde = True)"
   ]
  },
  {
   "cell_type": "markdown",
   "metadata": {},
   "source": [
    "# LotFrontage outlier removing"
   ]
  },
  {
   "cell_type": "code",
   "execution_count": 19,
   "metadata": {},
   "outputs": [
    {
     "name": "stdout",
     "output_type": "stream",
     "text": [
      "31.5 \t 107.5\n"
     ]
    },
    {
     "data": {
      "text/html": [
       "<div>\n",
       "<style scoped>\n",
       "    .dataframe tbody tr th:only-of-type {\n",
       "        vertical-align: middle;\n",
       "    }\n",
       "\n",
       "    .dataframe tbody tr th {\n",
       "        vertical-align: top;\n",
       "    }\n",
       "\n",
       "    .dataframe thead th {\n",
       "        text-align: right;\n",
       "    }\n",
       "</style>\n",
       "<table border=\"1\" class=\"dataframe\">\n",
       "  <thead>\n",
       "    <tr style=\"text-align: right;\">\n",
       "      <th></th>\n",
       "      <th>LotFrontage</th>\n",
       "      <th>LotArea</th>\n",
       "      <th>Alley</th>\n",
       "      <th>MasVnrArea</th>\n",
       "      <th>1stFlrSF</th>\n",
       "      <th>2ndFlrSF</th>\n",
       "      <th>GrLivArea</th>\n",
       "      <th>GarageType</th>\n",
       "      <th>GarageArea</th>\n",
       "      <th>SalePrice</th>\n",
       "    </tr>\n",
       "  </thead>\n",
       "  <tbody>\n",
       "    <tr>\n",
       "      <th>0</th>\n",
       "      <td>65.0</td>\n",
       "      <td>8450.0</td>\n",
       "      <td>1</td>\n",
       "      <td>196.000000</td>\n",
       "      <td>856.0</td>\n",
       "      <td>854.000000</td>\n",
       "      <td>1710.0</td>\n",
       "      <td>1</td>\n",
       "      <td>548.0</td>\n",
       "      <td>208500.0</td>\n",
       "    </tr>\n",
       "    <tr>\n",
       "      <th>1</th>\n",
       "      <td>80.0</td>\n",
       "      <td>9600.0</td>\n",
       "      <td>1</td>\n",
       "      <td>254.739425</td>\n",
       "      <td>1262.0</td>\n",
       "      <td>802.866878</td>\n",
       "      <td>1262.0</td>\n",
       "      <td>1</td>\n",
       "      <td>460.0</td>\n",
       "      <td>181500.0</td>\n",
       "    </tr>\n",
       "    <tr>\n",
       "      <th>2</th>\n",
       "      <td>68.0</td>\n",
       "      <td>11250.0</td>\n",
       "      <td>1</td>\n",
       "      <td>162.000000</td>\n",
       "      <td>920.0</td>\n",
       "      <td>866.000000</td>\n",
       "      <td>1786.0</td>\n",
       "      <td>1</td>\n",
       "      <td>608.0</td>\n",
       "      <td>223500.0</td>\n",
       "    </tr>\n",
       "    <tr>\n",
       "      <th>3</th>\n",
       "      <td>60.0</td>\n",
       "      <td>9550.0</td>\n",
       "      <td>1</td>\n",
       "      <td>254.739425</td>\n",
       "      <td>961.0</td>\n",
       "      <td>756.000000</td>\n",
       "      <td>1717.0</td>\n",
       "      <td>2</td>\n",
       "      <td>642.0</td>\n",
       "      <td>140000.0</td>\n",
       "    </tr>\n",
       "    <tr>\n",
       "      <th>4</th>\n",
       "      <td>84.0</td>\n",
       "      <td>14260.0</td>\n",
       "      <td>1</td>\n",
       "      <td>350.000000</td>\n",
       "      <td>1145.0</td>\n",
       "      <td>1053.000000</td>\n",
       "      <td>1820.0</td>\n",
       "      <td>1</td>\n",
       "      <td>836.0</td>\n",
       "      <td>250000.0</td>\n",
       "    </tr>\n",
       "    <tr>\n",
       "      <th>...</th>\n",
       "      <td>...</td>\n",
       "      <td>...</td>\n",
       "      <td>...</td>\n",
       "      <td>...</td>\n",
       "      <td>...</td>\n",
       "      <td>...</td>\n",
       "      <td>...</td>\n",
       "      <td>...</td>\n",
       "      <td>...</td>\n",
       "      <td>...</td>\n",
       "    </tr>\n",
       "    <tr>\n",
       "      <th>1455</th>\n",
       "      <td>62.0</td>\n",
       "      <td>7917.0</td>\n",
       "      <td>1</td>\n",
       "      <td>254.739425</td>\n",
       "      <td>953.0</td>\n",
       "      <td>694.000000</td>\n",
       "      <td>1647.0</td>\n",
       "      <td>1</td>\n",
       "      <td>460.0</td>\n",
       "      <td>175000.0</td>\n",
       "    </tr>\n",
       "    <tr>\n",
       "      <th>1456</th>\n",
       "      <td>85.0</td>\n",
       "      <td>13175.0</td>\n",
       "      <td>1</td>\n",
       "      <td>119.000000</td>\n",
       "      <td>2073.0</td>\n",
       "      <td>802.866878</td>\n",
       "      <td>1820.0</td>\n",
       "      <td>1</td>\n",
       "      <td>500.0</td>\n",
       "      <td>210000.0</td>\n",
       "    </tr>\n",
       "    <tr>\n",
       "      <th>1457</th>\n",
       "      <td>66.0</td>\n",
       "      <td>9042.0</td>\n",
       "      <td>1</td>\n",
       "      <td>254.739425</td>\n",
       "      <td>1188.0</td>\n",
       "      <td>1152.000000</td>\n",
       "      <td>1820.0</td>\n",
       "      <td>1</td>\n",
       "      <td>252.0</td>\n",
       "      <td>266500.0</td>\n",
       "    </tr>\n",
       "    <tr>\n",
       "      <th>1458</th>\n",
       "      <td>68.0</td>\n",
       "      <td>9717.0</td>\n",
       "      <td>1</td>\n",
       "      <td>254.739425</td>\n",
       "      <td>1078.0</td>\n",
       "      <td>802.866878</td>\n",
       "      <td>1078.0</td>\n",
       "      <td>1</td>\n",
       "      <td>240.0</td>\n",
       "      <td>142125.0</td>\n",
       "    </tr>\n",
       "    <tr>\n",
       "      <th>1459</th>\n",
       "      <td>75.0</td>\n",
       "      <td>9937.0</td>\n",
       "      <td>1</td>\n",
       "      <td>254.739425</td>\n",
       "      <td>1256.0</td>\n",
       "      <td>802.866878</td>\n",
       "      <td>1256.0</td>\n",
       "      <td>1</td>\n",
       "      <td>276.0</td>\n",
       "      <td>147500.0</td>\n",
       "    </tr>\n",
       "  </tbody>\n",
       "</table>\n",
       "<p>1460 rows × 10 columns</p>\n",
       "</div>"
      ],
      "text/plain": [
       "      LotFrontage  LotArea  Alley  MasVnrArea  1stFlrSF     2ndFlrSF  \\\n",
       "0            65.0   8450.0      1  196.000000     856.0   854.000000   \n",
       "1            80.0   9600.0      1  254.739425    1262.0   802.866878   \n",
       "2            68.0  11250.0      1  162.000000     920.0   866.000000   \n",
       "3            60.0   9550.0      1  254.739425     961.0   756.000000   \n",
       "4            84.0  14260.0      1  350.000000    1145.0  1053.000000   \n",
       "...           ...      ...    ...         ...       ...          ...   \n",
       "1455         62.0   7917.0      1  254.739425     953.0   694.000000   \n",
       "1456         85.0  13175.0      1  119.000000    2073.0   802.866878   \n",
       "1457         66.0   9042.0      1  254.739425    1188.0  1152.000000   \n",
       "1458         68.0   9717.0      1  254.739425    1078.0   802.866878   \n",
       "1459         75.0   9937.0      1  254.739425    1256.0   802.866878   \n",
       "\n",
       "      GrLivArea  GarageType  GarageArea  SalePrice  \n",
       "0        1710.0           1       548.0   208500.0  \n",
       "1        1262.0           1       460.0   181500.0  \n",
       "2        1786.0           1       608.0   223500.0  \n",
       "3        1717.0           2       642.0   140000.0  \n",
       "4        1820.0           1       836.0   250000.0  \n",
       "...         ...         ...         ...        ...  \n",
       "1455     1647.0           1       460.0   175000.0  \n",
       "1456     1820.0           1       500.0   210000.0  \n",
       "1457     1820.0           1       252.0   266500.0  \n",
       "1458     1078.0           1       240.0   142125.0  \n",
       "1459     1256.0           1       276.0   147500.0  \n",
       "\n",
       "[1460 rows x 10 columns]"
      ]
     },
     "execution_count": 19,
     "metadata": {},
     "output_type": "execute_result"
    },
    {
     "data": {
      "image/png": "[encoded data removed]",
      "text/plain": [
       "<Figure size 432x288 with 1 Axes>"
      ]
     },
     "metadata": {
      "needs_background": "light"
     },
     "output_type": "display_data"
    },
    {
     "data": {
      "image/png": "[encoded data removed]",
      "text/plain": [
       "<Figure size 360x360 with 1 Axes>"
      ]
     },
     "metadata": {
      "needs_background": "light"
     },
     "output_type": "display_data"
    }
   ],
   "source": [
    "IQR7=df1.LotFrontage.quantile(0.75)-df1.LotFrontage.quantile(0.25)\n",
    "\n",
    "lower_limit7=df1['LotFrontage'].quantile(0.25)-(IQR7*1.5)\n",
    "upper_limit7=df1['LotFrontage'].quantile(0.75)+(IQR7*1.5)\n",
    "print(lower_limit7, \"\\t\",upper_limit7)\n",
    "data8 = data7.copy()\n",
    "data8.loc[data8['LotFrontage']>=107.5,'LotFrontage']=107.5\n",
    "data8.loc[data8['LotFrontage']<=31.5  ,'LotFrontage']=31.5  \n",
    "figure=data8.boxplot(column=\"LotFrontage\")\n",
    "sns.displot(data=data8,x = 'LotFrontage',kde = True)\n",
    "data8"
   ]
  },
  {
   "cell_type": "code",
   "execution_count": 20,
   "metadata": {},
   "outputs": [
    {
     "data": {
      "text/plain": [
       "<AxesSubplot:>"
      ]
     },
     "execution_count": 20,
     "metadata": {},
     "output_type": "execute_result"
    },
    {
     "data": {
      "image/png": "[encoded data removed]",
      "text/plain": [
       "<Figure size 432x288 with 1 Axes>"
      ]
     },
     "metadata": {
      "needs_background": "light"
     },
     "output_type": "display_data"
    }
   ],
   "source": [
    "sns.boxplot(data=data8,palette= 'rainbow')"
   ]
  },
  {
   "cell_type": "code",
   "execution_count": 21,
   "metadata": {},
   "outputs": [
    {
     "data": {
      "text/html": [
       "<div>\n",
       "<style scoped>\n",
       "    .dataframe tbody tr th:only-of-type {\n",
       "        vertical-align: middle;\n",
       "    }\n",
       "\n",
       "    .dataframe tbody tr th {\n",
       "        vertical-align: top;\n",
       "    }\n",
       "\n",
       "    .dataframe thead th {\n",
       "        text-align: right;\n",
       "    }\n",
       "</style>\n",
       "<table border=\"1\" class=\"dataframe\">\n",
       "  <thead>\n",
       "    <tr style=\"text-align: right;\">\n",
       "      <th></th>\n",
       "      <th>LotFrontage</th>\n",
       "      <th>LotArea</th>\n",
       "      <th>Alley</th>\n",
       "      <th>MasVnrArea</th>\n",
       "      <th>1stFlrSF</th>\n",
       "      <th>2ndFlrSF</th>\n",
       "      <th>GrLivArea</th>\n",
       "      <th>GarageType</th>\n",
       "      <th>GarageArea</th>\n",
       "      <th>SalePrice</th>\n",
       "    </tr>\n",
       "  </thead>\n",
       "  <tbody>\n",
       "    <tr>\n",
       "      <th>0</th>\n",
       "      <td>65.0</td>\n",
       "      <td>8450.0</td>\n",
       "      <td>1</td>\n",
       "      <td>196.000000</td>\n",
       "      <td>856.0</td>\n",
       "      <td>854.000000</td>\n",
       "      <td>1710.0</td>\n",
       "      <td>1</td>\n",
       "      <td>548.0</td>\n",
       "      <td>208500.0</td>\n",
       "    </tr>\n",
       "    <tr>\n",
       "      <th>1</th>\n",
       "      <td>80.0</td>\n",
       "      <td>9600.0</td>\n",
       "      <td>1</td>\n",
       "      <td>254.739425</td>\n",
       "      <td>1262.0</td>\n",
       "      <td>802.866878</td>\n",
       "      <td>1262.0</td>\n",
       "      <td>1</td>\n",
       "      <td>460.0</td>\n",
       "      <td>181500.0</td>\n",
       "    </tr>\n",
       "    <tr>\n",
       "      <th>2</th>\n",
       "      <td>68.0</td>\n",
       "      <td>11250.0</td>\n",
       "      <td>1</td>\n",
       "      <td>162.000000</td>\n",
       "      <td>920.0</td>\n",
       "      <td>866.000000</td>\n",
       "      <td>1786.0</td>\n",
       "      <td>1</td>\n",
       "      <td>608.0</td>\n",
       "      <td>223500.0</td>\n",
       "    </tr>\n",
       "    <tr>\n",
       "      <th>3</th>\n",
       "      <td>60.0</td>\n",
       "      <td>9550.0</td>\n",
       "      <td>1</td>\n",
       "      <td>254.739425</td>\n",
       "      <td>961.0</td>\n",
       "      <td>756.000000</td>\n",
       "      <td>1717.0</td>\n",
       "      <td>2</td>\n",
       "      <td>642.0</td>\n",
       "      <td>140000.0</td>\n",
       "    </tr>\n",
       "    <tr>\n",
       "      <th>4</th>\n",
       "      <td>84.0</td>\n",
       "      <td>14260.0</td>\n",
       "      <td>1</td>\n",
       "      <td>350.000000</td>\n",
       "      <td>1145.0</td>\n",
       "      <td>1053.000000</td>\n",
       "      <td>1820.0</td>\n",
       "      <td>1</td>\n",
       "      <td>836.0</td>\n",
       "      <td>250000.0</td>\n",
       "    </tr>\n",
       "    <tr>\n",
       "      <th>...</th>\n",
       "      <td>...</td>\n",
       "      <td>...</td>\n",
       "      <td>...</td>\n",
       "      <td>...</td>\n",
       "      <td>...</td>\n",
       "      <td>...</td>\n",
       "      <td>...</td>\n",
       "      <td>...</td>\n",
       "      <td>...</td>\n",
       "      <td>...</td>\n",
       "    </tr>\n",
       "    <tr>\n",
       "      <th>1455</th>\n",
       "      <td>62.0</td>\n",
       "      <td>7917.0</td>\n",
       "      <td>1</td>\n",
       "      <td>254.739425</td>\n",
       "      <td>953.0</td>\n",
       "      <td>694.000000</td>\n",
       "      <td>1647.0</td>\n",
       "      <td>1</td>\n",
       "      <td>460.0</td>\n",
       "      <td>175000.0</td>\n",
       "    </tr>\n",
       "    <tr>\n",
       "      <th>1456</th>\n",
       "      <td>85.0</td>\n",
       "      <td>13175.0</td>\n",
       "      <td>1</td>\n",
       "      <td>119.000000</td>\n",
       "      <td>2073.0</td>\n",
       "      <td>802.866878</td>\n",
       "      <td>1820.0</td>\n",
       "      <td>1</td>\n",
       "      <td>500.0</td>\n",
       "      <td>210000.0</td>\n",
       "    </tr>\n",
       "    <tr>\n",
       "      <th>1457</th>\n",
       "      <td>66.0</td>\n",
       "      <td>9042.0</td>\n",
       "      <td>1</td>\n",
       "      <td>254.739425</td>\n",
       "      <td>1188.0</td>\n",
       "      <td>1152.000000</td>\n",
       "      <td>1820.0</td>\n",
       "      <td>1</td>\n",
       "      <td>252.0</td>\n",
       "      <td>266500.0</td>\n",
       "    </tr>\n",
       "    <tr>\n",
       "      <th>1458</th>\n",
       "      <td>68.0</td>\n",
       "      <td>9717.0</td>\n",
       "      <td>1</td>\n",
       "      <td>254.739425</td>\n",
       "      <td>1078.0</td>\n",
       "      <td>802.866878</td>\n",
       "      <td>1078.0</td>\n",
       "      <td>1</td>\n",
       "      <td>240.0</td>\n",
       "      <td>142125.0</td>\n",
       "    </tr>\n",
       "    <tr>\n",
       "      <th>1459</th>\n",
       "      <td>75.0</td>\n",
       "      <td>9937.0</td>\n",
       "      <td>1</td>\n",
       "      <td>254.739425</td>\n",
       "      <td>1256.0</td>\n",
       "      <td>802.866878</td>\n",
       "      <td>1256.0</td>\n",
       "      <td>1</td>\n",
       "      <td>276.0</td>\n",
       "      <td>147500.0</td>\n",
       "    </tr>\n",
       "  </tbody>\n",
       "</table>\n",
       "<p>1460 rows × 10 columns</p>\n",
       "</div>"
      ],
      "text/plain": [
       "      LotFrontage  LotArea  Alley  MasVnrArea  1stFlrSF     2ndFlrSF  \\\n",
       "0            65.0   8450.0      1  196.000000     856.0   854.000000   \n",
       "1            80.0   9600.0      1  254.739425    1262.0   802.866878   \n",
       "2            68.0  11250.0      1  162.000000     920.0   866.000000   \n",
       "3            60.0   9550.0      1  254.739425     961.0   756.000000   \n",
       "4            84.0  14260.0      1  350.000000    1145.0  1053.000000   \n",
       "...           ...      ...    ...         ...       ...          ...   \n",
       "1455         62.0   7917.0      1  254.739425     953.0   694.000000   \n",
       "1456         85.0  13175.0      1  119.000000    2073.0   802.866878   \n",
       "1457         66.0   9042.0      1  254.739425    1188.0  1152.000000   \n",
       "1458         68.0   9717.0      1  254.739425    1078.0   802.866878   \n",
       "1459         75.0   9937.0      1  254.739425    1256.0   802.866878   \n",
       "\n",
       "      GrLivArea  GarageType  GarageArea  SalePrice  \n",
       "0        1710.0           1       548.0   208500.0  \n",
       "1        1262.0           1       460.0   181500.0  \n",
       "2        1786.0           1       608.0   223500.0  \n",
       "3        1717.0           2       642.0   140000.0  \n",
       "4        1820.0           1       836.0   250000.0  \n",
       "...         ...         ...         ...        ...  \n",
       "1455     1647.0           1       460.0   175000.0  \n",
       "1456     1820.0           1       500.0   210000.0  \n",
       "1457     1820.0           1       252.0   266500.0  \n",
       "1458     1078.0           1       240.0   142125.0  \n",
       "1459     1256.0           1       276.0   147500.0  \n",
       "\n",
       "[1460 rows x 10 columns]"
      ]
     },
     "execution_count": 21,
     "metadata": {},
     "output_type": "execute_result"
    }
   ],
   "source": [
    "data8"
   ]
  },
  {
   "cell_type": "code",
   "execution_count": 30,
   "metadata": {},
   "outputs": [
    {
     "data": {
      "text/plain": [
       "<AxesSubplot:>"
      ]
     },
     "execution_count": 30,
     "metadata": {},
     "output_type": "execute_result"
    },
    {
     "data": {
      "image/png": "[encoded data removed]",
      "text/plain": [
       "<Figure size 432x288 with 2 Axes>"
      ]
     },
     "metadata": {
      "needs_background": "light"
     },
     "output_type": "display_data"
    }
   ],
   "source": [
    "data8.columns\n",
    "sns.heatmap(data8.corr(),cmap = 'YlGnBu')"
   ]
  },
  {
   "cell_type": "markdown",
   "metadata": {},
   "source": [
    "# Scaling\n"
   ]
  },
  {
   "cell_type": "code",
   "execution_count": 33,
   "metadata": {},
   "outputs": [
    {
     "data": {
      "text/plain": [
       "Index(['LotFrontage', 'LotArea', 'Alley', 'MasVnrArea', '1stFlrSF', '2ndFlrSF',\n",
       "       'GrLivArea', 'GarageType', 'GarageArea', 'SalePrice'],\n",
       "      dtype='object')"
      ]
     },
     "execution_count": 33,
     "metadata": {},
     "output_type": "execute_result"
    }
   ],
   "source": [
    "data8.columns"
   ]
  },
  {
   "cell_type": "code",
   "execution_count": 44,
   "metadata": {},
   "outputs": [
    {
     "data": {
      "text/html": [
       "<div>\n",
       "<style scoped>\n",
       "    .dataframe tbody tr th:only-of-type {\n",
       "        vertical-align: middle;\n",
       "    }\n",
       "\n",
       "    .dataframe tbody tr th {\n",
       "        vertical-align: top;\n",
       "    }\n",
       "\n",
       "    .dataframe thead th {\n",
       "        text-align: right;\n",
       "    }\n",
       "</style>\n",
       "<table border=\"1\" class=\"dataframe\">\n",
       "  <thead>\n",
       "    <tr style=\"text-align: right;\">\n",
       "      <th></th>\n",
       "      <th>Alley</th>\n",
       "      <th>GarageType</th>\n",
       "    </tr>\n",
       "  </thead>\n",
       "  <tbody>\n",
       "    <tr>\n",
       "      <th>0</th>\n",
       "      <td>1</td>\n",
       "      <td>1</td>\n",
       "    </tr>\n",
       "    <tr>\n",
       "      <th>1</th>\n",
       "      <td>1</td>\n",
       "      <td>1</td>\n",
       "    </tr>\n",
       "    <tr>\n",
       "      <th>2</th>\n",
       "      <td>1</td>\n",
       "      <td>1</td>\n",
       "    </tr>\n",
       "    <tr>\n",
       "      <th>3</th>\n",
       "      <td>1</td>\n",
       "      <td>2</td>\n",
       "    </tr>\n",
       "    <tr>\n",
       "      <th>4</th>\n",
       "      <td>1</td>\n",
       "      <td>1</td>\n",
       "    </tr>\n",
       "    <tr>\n",
       "      <th>...</th>\n",
       "      <td>...</td>\n",
       "      <td>...</td>\n",
       "    </tr>\n",
       "    <tr>\n",
       "      <th>1455</th>\n",
       "      <td>1</td>\n",
       "      <td>1</td>\n",
       "    </tr>\n",
       "    <tr>\n",
       "      <th>1456</th>\n",
       "      <td>1</td>\n",
       "      <td>1</td>\n",
       "    </tr>\n",
       "    <tr>\n",
       "      <th>1457</th>\n",
       "      <td>1</td>\n",
       "      <td>1</td>\n",
       "    </tr>\n",
       "    <tr>\n",
       "      <th>1458</th>\n",
       "      <td>1</td>\n",
       "      <td>1</td>\n",
       "    </tr>\n",
       "    <tr>\n",
       "      <th>1459</th>\n",
       "      <td>1</td>\n",
       "      <td>1</td>\n",
       "    </tr>\n",
       "  </tbody>\n",
       "</table>\n",
       "<p>1460 rows × 2 columns</p>\n",
       "</div>"
      ],
      "text/plain": [
       "      Alley  GarageType\n",
       "0         1           1\n",
       "1         1           1\n",
       "2         1           1\n",
       "3         1           2\n",
       "4         1           1\n",
       "...     ...         ...\n",
       "1455      1           1\n",
       "1456      1           1\n",
       "1457      1           1\n",
       "1458      1           1\n",
       "1459      1           1\n",
       "\n",
       "[1460 rows x 2 columns]"
      ]
     },
     "execution_count": 44,
     "metadata": {},
     "output_type": "execute_result"
    }
   ],
   "source": [
    "col= ['LotFrontage', 'LotArea', 'MasVnrArea', '1stFlrSF', '2ndFlrSF',\n",
    "       'GrLivArea', 'GarageArea', 'SalePrice']\n",
    "\n",
    "col1 = ['Alley','GarageType']\n",
    "new_df = data8[col1]\n",
    "new_df"
   ]
  },
  {
   "cell_type": "code",
   "execution_count": 40,
   "metadata": {},
   "outputs": [
    {
     "data": {
      "text/html": [
       "<div>\n",
       "<style scoped>\n",
       "    .dataframe tbody tr th:only-of-type {\n",
       "        vertical-align: middle;\n",
       "    }\n",
       "\n",
       "    .dataframe tbody tr th {\n",
       "        vertical-align: top;\n",
       "    }\n",
       "\n",
       "    .dataframe thead tr th {\n",
       "        text-align: left;\n",
       "    }\n",
       "</style>\n",
       "<table border=\"1\" class=\"dataframe\">\n",
       "  <thead>\n",
       "    <tr>\n",
       "      <th></th>\n",
       "      <th>LotFrontage</th>\n",
       "      <th>LotArea</th>\n",
       "      <th>MasVnrArea</th>\n",
       "      <th>1stFlrSF</th>\n",
       "      <th>2ndFlrSF</th>\n",
       "      <th>GrLivArea</th>\n",
       "      <th>GarageArea</th>\n",
       "      <th>SalePrice</th>\n",
       "    </tr>\n",
       "  </thead>\n",
       "  <tbody>\n",
       "    <tr>\n",
       "      <th>0</th>\n",
       "      <td>-0.248215</td>\n",
       "      <td>-0.333244</td>\n",
       "      <td>-0.559750</td>\n",
       "      <td>-0.830489</td>\n",
       "      <td>2.847700e-01</td>\n",
       "      <td>0.847845</td>\n",
       "      <td>0.373509</td>\n",
       "      <td>0.463935</td>\n",
       "    </tr>\n",
       "    <tr>\n",
       "      <th>1</th>\n",
       "      <td>0.622375</td>\n",
       "      <td>-0.013189</td>\n",
       "      <td>0.170438</td>\n",
       "      <td>0.289638</td>\n",
       "      <td>6.331434e-16</td>\n",
       "      <td>-0.454523</td>\n",
       "      <td>-0.051541</td>\n",
       "      <td>0.062047</td>\n",
       "    </tr>\n",
       "    <tr>\n",
       "      <th>2</th>\n",
       "      <td>-0.074097</td>\n",
       "      <td>0.446022</td>\n",
       "      <td>-0.982403</td>\n",
       "      <td>-0.653917</td>\n",
       "      <td>3.516002e-01</td>\n",
       "      <td>1.068783</td>\n",
       "      <td>0.663315</td>\n",
       "      <td>0.687207</td>\n",
       "    </tr>\n",
       "    <tr>\n",
       "      <th>3</th>\n",
       "      <td>-0.538412</td>\n",
       "      <td>-0.027104</td>\n",
       "      <td>0.170438</td>\n",
       "      <td>-0.540801</td>\n",
       "      <td>-2.610105e-01</td>\n",
       "      <td>0.868195</td>\n",
       "      <td>0.827539</td>\n",
       "      <td>-0.555671</td>\n",
       "    </tr>\n",
       "    <tr>\n",
       "      <th>4</th>\n",
       "      <td>0.854532</td>\n",
       "      <td>1.283733</td>\n",
       "      <td>1.354621</td>\n",
       "      <td>-0.033157</td>\n",
       "      <td>1.393038e+00</td>\n",
       "      <td>1.167623</td>\n",
       "      <td>1.764579</td>\n",
       "      <td>1.081653</td>\n",
       "    </tr>\n",
       "    <tr>\n",
       "      <th>...</th>\n",
       "      <td>...</td>\n",
       "      <td>...</td>\n",
       "      <td>...</td>\n",
       "      <td>...</td>\n",
       "      <td>...</td>\n",
       "      <td>...</td>\n",
       "      <td>...</td>\n",
       "      <td>...</td>\n",
       "    </tr>\n",
       "    <tr>\n",
       "      <th>1455</th>\n",
       "      <td>-0.422333</td>\n",
       "      <td>-0.481583</td>\n",
       "      <td>0.170438</td>\n",
       "      <td>-0.562873</td>\n",
       "      <td>-6.063001e-01</td>\n",
       "      <td>0.664700</td>\n",
       "      <td>-0.051541</td>\n",
       "      <td>-0.034704</td>\n",
       "    </tr>\n",
       "    <tr>\n",
       "      <th>1456</th>\n",
       "      <td>0.912571</td>\n",
       "      <td>0.981767</td>\n",
       "      <td>-1.516935</td>\n",
       "      <td>2.527134</td>\n",
       "      <td>6.331434e-16</td>\n",
       "      <td>1.167623</td>\n",
       "      <td>0.141664</td>\n",
       "      <td>0.486262</td>\n",
       "    </tr>\n",
       "    <tr>\n",
       "      <th>1457</th>\n",
       "      <td>-0.190176</td>\n",
       "      <td>-0.168485</td>\n",
       "      <td>0.170438</td>\n",
       "      <td>0.085477</td>\n",
       "      <td>1.944388e+00</td>\n",
       "      <td>1.167623</td>\n",
       "      <td>-1.056203</td>\n",
       "      <td>1.327251</td>\n",
       "    </tr>\n",
       "    <tr>\n",
       "      <th>1458</th>\n",
       "      <td>-0.074097</td>\n",
       "      <td>0.019374</td>\n",
       "      <td>0.170438</td>\n",
       "      <td>-0.218006</td>\n",
       "      <td>6.331434e-16</td>\n",
       "      <td>-0.989424</td>\n",
       "      <td>-1.114164</td>\n",
       "      <td>-0.524041</td>\n",
       "    </tr>\n",
       "    <tr>\n",
       "      <th>1459</th>\n",
       "      <td>0.332178</td>\n",
       "      <td>0.080602</td>\n",
       "      <td>0.170438</td>\n",
       "      <td>0.273084</td>\n",
       "      <td>6.331434e-16</td>\n",
       "      <td>-0.471965</td>\n",
       "      <td>-0.940280</td>\n",
       "      <td>-0.444035</td>\n",
       "    </tr>\n",
       "  </tbody>\n",
       "</table>\n",
       "<p>1460 rows × 8 columns</p>\n",
       "</div>"
      ],
      "text/plain": [
       "     LotFrontage   LotArea MasVnrArea  1stFlrSF      2ndFlrSF GrLivArea  \\\n",
       "0      -0.248215 -0.333244  -0.559750 -0.830489  2.847700e-01  0.847845   \n",
       "1       0.622375 -0.013189   0.170438  0.289638  6.331434e-16 -0.454523   \n",
       "2      -0.074097  0.446022  -0.982403 -0.653917  3.516002e-01  1.068783   \n",
       "3      -0.538412 -0.027104   0.170438 -0.540801 -2.610105e-01  0.868195   \n",
       "4       0.854532  1.283733   1.354621 -0.033157  1.393038e+00  1.167623   \n",
       "...          ...       ...        ...       ...           ...       ...   \n",
       "1455   -0.422333 -0.481583   0.170438 -0.562873 -6.063001e-01  0.664700   \n",
       "1456    0.912571  0.981767  -1.516935  2.527134  6.331434e-16  1.167623   \n",
       "1457   -0.190176 -0.168485   0.170438  0.085477  1.944388e+00  1.167623   \n",
       "1458   -0.074097  0.019374   0.170438 -0.218006  6.331434e-16 -0.989424   \n",
       "1459    0.332178  0.080602   0.170438  0.273084  6.331434e-16 -0.471965   \n",
       "\n",
       "     GarageArea SalePrice  \n",
       "0      0.373509  0.463935  \n",
       "1     -0.051541  0.062047  \n",
       "2      0.663315  0.687207  \n",
       "3      0.827539 -0.555671  \n",
       "4      1.764579  1.081653  \n",
       "...         ...       ...  \n",
       "1455  -0.051541 -0.034704  \n",
       "1456   0.141664  0.486262  \n",
       "1457  -1.056203  1.327251  \n",
       "1458  -1.114164 -0.524041  \n",
       "1459  -0.940280 -0.444035  \n",
       "\n",
       "[1460 rows x 8 columns]"
      ]
     },
     "execution_count": 40,
     "metadata": {},
     "output_type": "execute_result"
    }
   ],
   "source": [
    "from sklearn.preprocessing import StandardScaler \n",
    "scaler =StandardScaler()\n",
    "X_scaled = scaler.fit_transform(data8[col])\n",
    "\n",
    "scaled_df = pd.DataFrame(X_scaled,columns=[col] )\n",
    "scaled_df"
   ]
  },
  {
   "cell_type": "code",
   "execution_count": 69,
   "metadata": {},
   "outputs": [
    {
     "data": {
      "text/plain": [
       "pandas.core.frame.DataFrame"
      ]
     },
     "execution_count": 69,
     "metadata": {},
     "output_type": "execute_result"
    }
   ],
   "source": [
    "result = pd.concat([scaled_df,new_df], axis=1)\n",
    "type(result)\n"
   ]
  },
  {
   "cell_type": "code",
   "execution_count": 61,
   "metadata": {},
   "outputs": [],
   "source": [
    "result.rename(columns={'(LotFrontage,)':'LotFrontage', '(LotArea,)':'LotArea','(MasVnrArea,)':'MasVnrArea', '(1stFlrSF,)':'1stFlrSF','(2ndFlrSF,)':'2ndFlrSF','(GrLivArea,)':'GrLivArea','(GarageArea,)':'GarageArea','(SalePrice,)':'SalePrice'}, inplace=True)"
   ]
  },
  {
   "cell_type": "code",
   "execution_count": 62,
   "metadata": {},
   "outputs": [
    {
     "data": {
      "text/html": [
       "<div>\n",
       "<style scoped>\n",
       "    .dataframe tbody tr th:only-of-type {\n",
       "        vertical-align: middle;\n",
       "    }\n",
       "\n",
       "    .dataframe tbody tr th {\n",
       "        vertical-align: top;\n",
       "    }\n",
       "\n",
       "    .dataframe thead th {\n",
       "        text-align: right;\n",
       "    }\n",
       "</style>\n",
       "<table border=\"1\" class=\"dataframe\">\n",
       "  <thead>\n",
       "    <tr style=\"text-align: right;\">\n",
       "      <th></th>\n",
       "      <th>VIF</th>\n",
       "      <th>Features</th>\n",
       "    </tr>\n",
       "  </thead>\n",
       "  <tbody>\n",
       "    <tr>\n",
       "      <th>0</th>\n",
       "      <td>1.607564</td>\n",
       "      <td>(LotFrontage,)</td>\n",
       "    </tr>\n",
       "    <tr>\n",
       "      <th>1</th>\n",
       "      <td>1.734099</td>\n",
       "      <td>(LotArea,)</td>\n",
       "    </tr>\n",
       "    <tr>\n",
       "      <th>2</th>\n",
       "      <td>1.035483</td>\n",
       "      <td>(MasVnrArea,)</td>\n",
       "    </tr>\n",
       "    <tr>\n",
       "      <th>3</th>\n",
       "      <td>1.834811</td>\n",
       "      <td>(1stFlrSF,)</td>\n",
       "    </tr>\n",
       "    <tr>\n",
       "      <th>4</th>\n",
       "      <td>1.290111</td>\n",
       "      <td>(2ndFlrSF,)</td>\n",
       "    </tr>\n",
       "    <tr>\n",
       "      <th>5</th>\n",
       "      <td>1.980339</td>\n",
       "      <td>(GrLivArea,)</td>\n",
       "    </tr>\n",
       "    <tr>\n",
       "      <th>6</th>\n",
       "      <td>1.833032</td>\n",
       "      <td>(GarageArea,)</td>\n",
       "    </tr>\n",
       "    <tr>\n",
       "      <th>7</th>\n",
       "      <td>3.230967</td>\n",
       "      <td>(SalePrice,)</td>\n",
       "    </tr>\n",
       "  </tbody>\n",
       "</table>\n",
       "</div>"
      ],
      "text/plain": [
       "        VIF        Features\n",
       "0  1.607564  (LotFrontage,)\n",
       "1  1.734099      (LotArea,)\n",
       "2  1.035483   (MasVnrArea,)\n",
       "3  1.834811     (1stFlrSF,)\n",
       "4  1.290111     (2ndFlrSF,)\n",
       "5  1.980339    (GrLivArea,)\n",
       "6  1.833032   (GarageArea,)\n",
       "7  3.230967    (SalePrice,)"
      ]
     },
     "execution_count": 62,
     "metadata": {},
     "output_type": "execute_result"
    }
   ],
   "source": [
    "from statsmodels.stats.outliers_influence import variance_inflation_factor\n",
    "variables = X_scaled\n",
    "\n",
    "# we create a new data frame which will include all the VIFs\n",
    "# note that each variable has its own variance inflation factor as this measure is variable specific (not model specific)\n",
    "# we do not include categorical values for mulitcollinearity as they do not provide much information as numerical ones do\n",
    "vif = pd.DataFrame()\n",
    "\n",
    "# here we make use of the variance_inflation_factor, which will basically output the respective VIFs \n",
    "vif[\"VIF\"] = [variance_inflation_factor(variables, i) for i in range(variables.shape[1])]\n",
    "# Finally, I like to include names so it is easier to explore the result\n",
    "vif[\"Features\"] = scaled_df.columns\n",
    "\n",
    "vif\n"
   ]
  },
  {
   "cell_type": "code",
   "execution_count": 75,
   "metadata": {},
   "outputs": [],
   "source": [
    "result.columns\n",
    "columns3 = [('LotFrontage',),     ('LotArea',),  ('MasVnrArea',),    ('1stFlrSF',),\n",
    "          ('2ndFlrSF',),   ('GrLivArea',),  ('GarageArea',),  \n",
    "                'Alley',     'GarageType']"
   ]
  },
  {
   "cell_type": "code",
   "execution_count": 76,
   "metadata": {},
   "outputs": [
    {
     "name": "stderr",
     "output_type": "stream",
     "text": [
      "C:\\Users\\Shyam Adsul\\anaconda3\\lib\\site-packages\\numpy\\core\\_asarray.py:83: VisibleDeprecationWarning: Creating an ndarray from ragged nested sequences (which is a list-or-tuple of lists-or-tuples-or ndarrays with different lengths or shapes) is deprecated. If you meant to do this, you must specify 'dtype=object' when creating the ndarray\n",
      "  return array(a, dtype, copy=False, order=order)\n"
     ]
    }
   ],
   "source": [
    "y = scaled_df['SalePrice']\n",
    "X =result[columns3]"
   ]
  },
  {
   "cell_type": "code",
   "execution_count": 89,
   "metadata": {},
   "outputs": [],
   "source": [
    "x_train,x_test,y_train,y_test = train_test_split(X,y,test_size = 0.30,random_state=20)"
   ]
  },
  {
   "cell_type": "code",
   "execution_count": 90,
   "metadata": {},
   "outputs": [
    {
     "data": {
      "text/plain": [
       "((1022, 9), (438, 9), (1022, 1), (438, 1))"
      ]
     },
     "execution_count": 90,
     "metadata": {},
     "output_type": "execute_result"
    }
   ],
   "source": [
    "x_train.shape,x_test.shape,y_train.shape,y_test.shape"
   ]
  },
  {
   "cell_type": "code",
   "execution_count": 91,
   "metadata": {},
   "outputs": [
    {
     "data": {
      "text/plain": [
       "LinearRegression()"
      ]
     },
     "execution_count": 91,
     "metadata": {},
     "output_type": "execute_result"
    }
   ],
   "source": [
    "from sklearn.linear_model import LinearRegression\n",
    "regression = LinearRegression()\n",
    "regression.fit(x_train,y_train)"
   ]
  },
  {
   "cell_type": "code",
   "execution_count": 92,
   "metadata": {},
   "outputs": [
    {
     "name": "stdout",
     "output_type": "stream",
     "text": [
      "intercept: [0.15125795]\n",
      "slope: [[-0.00490326  0.03740119  0.04093916  0.19433604  0.17273898  0.37701619\n",
      "   0.32638492  0.05696039 -0.14214633]]\n",
      "\n",
      "\n",
      "\n"
     ]
    }
   ],
   "source": [
    "print('intercept:', regression.intercept_)\n",
    "print('slope:', regression.coef_)\n",
    "print(\"\\n\\n\")\n",
    "y_pred = regression.predict(x_test)"
   ]
  },
  {
   "cell_type": "code",
   "execution_count": 93,
   "metadata": {},
   "outputs": [
    {
     "data": {
      "text/plain": [
       "70.04284879193993"
      ]
     },
     "execution_count": 93,
     "metadata": {},
     "output_type": "execute_result"
    }
   ],
   "source": [
    "regression.score(x_train,y_train)*100"
   ]
  },
  {
   "cell_type": "code",
   "execution_count": 94,
   "metadata": {},
   "outputs": [],
   "source": []
  },
  {
   "cell_type": "code",
   "execution_count": 95,
   "metadata": {},
   "outputs": [
    {
     "data": {
      "text/plain": [
       "70.86289299461674"
      ]
     },
     "execution_count": 95,
     "metadata": {},
     "output_type": "execute_result"
    }
   ],
   "source": [
    "regression.score(x_test, y_test)*100"
   ]
  },
  {
   "cell_type": "code",
   "execution_count": null,
   "metadata": {},
   "outputs": [],
   "source": []
  }
 ],
 "metadata": {
  "kernelspec": {
   "display_name": "Python 3",
   "language": "python",
   "name": "python3"
  },
  "language_info": {
   "codemirror_mode": {
    "name": "ipython",
    "version": 3
   },
   "file_extension": ".py",
   "mimetype": "text/x-python",
   "name": "python",
   "nbconvert_exporter": "python",
   "pygments_lexer": "ipython3",
   "version": "3.8.5"
  },
  "latex_envs": {
   "LaTeX_envs_menu_present": true,
   "autoclose": false,
   "autocomplete": true,
   "bibliofile": "biblio.bib",
   "cite_by": "apalike",
   "current_citInitial": 1,
   "eqLabelWithNumbers": true,
   "eqNumInitial": 1,
   "hotkeys": {
    "equation": "Ctrl-E",
    "itemize": "Ctrl-I"
   },
   "labels_anchors": false,
   "latex_user_defs": false,
   "report_style_numbering": false,
   "user_envs_cfg": false
  },
  "toc": {
   "base_numbering": 1,
   "nav_menu": {},
   "number_sections": true,
   "sideBar": true,
   "skip_h1_title": false,
   "title_cell": "Table of Contents",
   "title_sidebar": "Contents",
   "toc_cell": false,
   "toc_position": {},
   "toc_section_display": true,
   "toc_window_display": false
  },
  "varInspector": {
   "cols": {
    "lenName": 16,
    "lenType": 16,
    "lenVar": 40
   },
   "kernels_config": {
    "python": {
     "delete_cmd_postfix": "",
     "delete_cmd_prefix": "del ",
     "library": "var_list.py",
     "varRefreshCmd": "print(var_dic_list())"
    },
    "r": {
     "delete_cmd_postfix": ") ",
     "delete_cmd_prefix": "rm(",
     "library": "var_list.r",
     "varRefreshCmd": "cat(var_dic_list()) "
    }
   },
   "types_to_exclude": [
    "module",
    "function",
    "builtin_function_or_method",
    "instance",
    "_Feature"
   ],
   "window_display": false
  }
 },
 "nbformat": 4,
 "nbformat_minor": 5
}
